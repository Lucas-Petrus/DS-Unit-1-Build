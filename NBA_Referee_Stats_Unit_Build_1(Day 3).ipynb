{
  "nbformat": 4,
  "nbformat_minor": 0,
  "metadata": {
    "colab": {
      "name": "NBA Referee Stats: Unit Build 1",
      "provenance": [],
      "authorship_tag": "ABX9TyOO5YHnfjc/Bs+SGThGQYrH",
      "include_colab_link": true
    },
    "kernelspec": {
      "name": "python3",
      "display_name": "Python 3"
    }
  },
  "cells": [
    {
      "cell_type": "markdown",
      "metadata": {
        "id": "view-in-github",
        "colab_type": "text"
      },
      "source": [
        "<a href=\"https://colab.research.google.com/github/Lucas-Petrus/DS-Unit-1-Build/blob/master/NBA_Referee_Stats_Unit_Build_1(Day%203).ipynb\" target=\"_parent\"><img src=\"https://colab.research.google.com/assets/colab-badge.svg\" alt=\"Open In Colab\"/></a>"
      ]
    },
    {
      "cell_type": "markdown",
      "metadata": {
        "id": "MnmORdbOEpRJ",
        "colab_type": "text"
      },
      "source": [
        "https://www.nbastuffer.com/2019-2020-nba-referee-stats/"
      ]
    },
    {
      "cell_type": "markdown",
      "metadata": {
        "id": "8R7wIhv4GhL3",
        "colab_type": "text"
      },
      "source": [
        "**The data set below is a compliation of all the different referees in NBA. Over the couple years, a lot of information has been coming out about how refs might be manipulating scores for either NBA viewership purposes or potentially rigging games for gambling purposes (lets hope not!)**\n",
        "\n",
        "In order to drive more views, it would make sense to me that the NBA would be telling officials to call less fouls on the Home Team giving them a better chance to win, driving more fans into the arena to watch a winning team, and letting the home fans enjoy a win that they bought tickets to hopefully see.\n",
        "\n",
        "**My question for this data is: Do referees give home teams a slight advantage?**"
      ]
    },
    {
      "cell_type": "code",
      "metadata": {
        "id": "w5zBc91j82d6",
        "colab_type": "code",
        "colab": {}
      },
      "source": [
        "import pandas as pd"
      ],
      "execution_count": 6,
      "outputs": []
    },
    {
      "cell_type": "code",
      "metadata": {
        "id": "u_5V-jIKDLgV",
        "colab_type": "code",
        "colab": {
          "base_uri": "https://localhost:8080/",
          "height": 306
        },
        "outputId": "29201b86-e04a-4b2b-a3ee-a79c8feb4953"
      },
      "source": [
        "df = pd.read_excel('NBA Referee Stats.xlsx')\n",
        "print(df.shape)\n",
        "df.head()"
      ],
      "execution_count": 7,
      "outputs": [
        {
          "output_type": "stream",
          "text": [
            "(123, 11)\n"
          ],
          "name": "stdout"
        },
        {
          "output_type": "execute_result",
          "data": {
            "text/html": [
              "<div>\n",
              "<style scoped>\n",
              "    .dataframe tbody tr th:only-of-type {\n",
              "        vertical-align: middle;\n",
              "    }\n",
              "\n",
              "    .dataframe tbody tr th {\n",
              "        vertical-align: top;\n",
              "    }\n",
              "\n",
              "    .dataframe thead th {\n",
              "        text-align: right;\n",
              "    }\n",
              "</style>\n",
              "<table border=\"1\" class=\"dataframe\">\n",
              "  <thead>\n",
              "    <tr style=\"text-align: right;\">\n",
              "      <th></th>\n",
              "      <th>Rank</th>\n",
              "      <th>Referee</th>\n",
              "      <th>Experience (Years)</th>\n",
              "      <th>Games Officiated</th>\n",
              "      <th>Home Team Win%</th>\n",
              "      <th>Home Team Points Diff</th>\n",
              "      <th>Total Points Per Game</th>\n",
              "      <th>Called Fouls Per Game</th>\n",
              "      <th>Foul % Against Road Teams</th>\n",
              "      <th>Foul % Against Home Teams</th>\n",
              "      <th>Foul Differential</th>\n",
              "    </tr>\n",
              "  </thead>\n",
              "  <tbody>\n",
              "    <tr>\n",
              "      <th>0</th>\n",
              "      <td>1</td>\n",
              "      <td>Karl Lane</td>\n",
              "      <td>10</td>\n",
              "      <td>48</td>\n",
              "      <td>0.563</td>\n",
              "      <td>3.604</td>\n",
              "      <td>215.854</td>\n",
              "      <td>38.271</td>\n",
              "      <td>49.428</td>\n",
              "      <td>50.571</td>\n",
              "      <td>-0.4</td>\n",
              "    </tr>\n",
              "    <tr>\n",
              "      <th>1</th>\n",
              "      <td>2</td>\n",
              "      <td>Tyler Ford</td>\n",
              "      <td>6</td>\n",
              "      <td>49</td>\n",
              "      <td>0.633</td>\n",
              "      <td>2.469</td>\n",
              "      <td>220.796</td>\n",
              "      <td>41.898</td>\n",
              "      <td>51.486</td>\n",
              "      <td>48.514</td>\n",
              "      <td>1.2</td>\n",
              "    </tr>\n",
              "    <tr>\n",
              "      <th>2</th>\n",
              "      <td>3</td>\n",
              "      <td>Dedric Taylor</td>\n",
              "      <td>7</td>\n",
              "      <td>49</td>\n",
              "      <td>0.592</td>\n",
              "      <td>2.367</td>\n",
              "      <td>225.918</td>\n",
              "      <td>43.122</td>\n",
              "      <td>50.639</td>\n",
              "      <td>49.362</td>\n",
              "      <td>0.6</td>\n",
              "    </tr>\n",
              "    <tr>\n",
              "      <th>3</th>\n",
              "      <td>4</td>\n",
              "      <td>Gediminas Petraitis</td>\n",
              "      <td>6</td>\n",
              "      <td>50</td>\n",
              "      <td>0.460</td>\n",
              "      <td>0.380</td>\n",
              "      <td>224.580</td>\n",
              "      <td>40.100</td>\n",
              "      <td>52.120</td>\n",
              "      <td>47.880</td>\n",
              "      <td>1.7</td>\n",
              "    </tr>\n",
              "    <tr>\n",
              "      <th>4</th>\n",
              "      <td>5</td>\n",
              "      <td>Mitchell Ervin</td>\n",
              "      <td>6</td>\n",
              "      <td>48</td>\n",
              "      <td>0.479</td>\n",
              "      <td>-0.979</td>\n",
              "      <td>229.979</td>\n",
              "      <td>43.500</td>\n",
              "      <td>50.862</td>\n",
              "      <td>49.138</td>\n",
              "      <td>0.8</td>\n",
              "    </tr>\n",
              "  </tbody>\n",
              "</table>\n",
              "</div>"
            ],
            "text/plain": [
              "   Rank              Referee  ...  Foul % Against Home Teams  Foul Differential\n",
              "0     1            Karl Lane  ...                     50.571               -0.4\n",
              "1     2           Tyler Ford  ...                     48.514                1.2\n",
              "2     3        Dedric Taylor  ...                     49.362                0.6\n",
              "3     4  Gediminas Petraitis  ...                     47.880                1.7\n",
              "4     5       Mitchell Ervin  ...                     49.138                0.8\n",
              "\n",
              "[5 rows x 11 columns]"
            ]
          },
          "metadata": {
            "tags": []
          },
          "execution_count": 7
        }
      ]
    },
    {
      "cell_type": "code",
      "metadata": {
        "id": "1Hy3U8vrotcF",
        "colab_type": "code",
        "colab": {
          "base_uri": "https://localhost:8080/",
          "height": 289
        },
        "outputId": "423fcef3-4a35-4364-c326-72d4585c2eaf"
      },
      "source": [
        "df['Home Team Win%'] = df['Home Team Win%']*100\n",
        "\n",
        "df.head()"
      ],
      "execution_count": 8,
      "outputs": [
        {
          "output_type": "execute_result",
          "data": {
            "text/html": [
              "<div>\n",
              "<style scoped>\n",
              "    .dataframe tbody tr th:only-of-type {\n",
              "        vertical-align: middle;\n",
              "    }\n",
              "\n",
              "    .dataframe tbody tr th {\n",
              "        vertical-align: top;\n",
              "    }\n",
              "\n",
              "    .dataframe thead th {\n",
              "        text-align: right;\n",
              "    }\n",
              "</style>\n",
              "<table border=\"1\" class=\"dataframe\">\n",
              "  <thead>\n",
              "    <tr style=\"text-align: right;\">\n",
              "      <th></th>\n",
              "      <th>Rank</th>\n",
              "      <th>Referee</th>\n",
              "      <th>Experience (Years)</th>\n",
              "      <th>Games Officiated</th>\n",
              "      <th>Home Team Win%</th>\n",
              "      <th>Home Team Points Diff</th>\n",
              "      <th>Total Points Per Game</th>\n",
              "      <th>Called Fouls Per Game</th>\n",
              "      <th>Foul % Against Road Teams</th>\n",
              "      <th>Foul % Against Home Teams</th>\n",
              "      <th>Foul Differential</th>\n",
              "    </tr>\n",
              "  </thead>\n",
              "  <tbody>\n",
              "    <tr>\n",
              "      <th>0</th>\n",
              "      <td>1</td>\n",
              "      <td>Karl Lane</td>\n",
              "      <td>10</td>\n",
              "      <td>48</td>\n",
              "      <td>56.3</td>\n",
              "      <td>3.604</td>\n",
              "      <td>215.854</td>\n",
              "      <td>38.271</td>\n",
              "      <td>49.428</td>\n",
              "      <td>50.571</td>\n",
              "      <td>-0.4</td>\n",
              "    </tr>\n",
              "    <tr>\n",
              "      <th>1</th>\n",
              "      <td>2</td>\n",
              "      <td>Tyler Ford</td>\n",
              "      <td>6</td>\n",
              "      <td>49</td>\n",
              "      <td>63.3</td>\n",
              "      <td>2.469</td>\n",
              "      <td>220.796</td>\n",
              "      <td>41.898</td>\n",
              "      <td>51.486</td>\n",
              "      <td>48.514</td>\n",
              "      <td>1.2</td>\n",
              "    </tr>\n",
              "    <tr>\n",
              "      <th>2</th>\n",
              "      <td>3</td>\n",
              "      <td>Dedric Taylor</td>\n",
              "      <td>7</td>\n",
              "      <td>49</td>\n",
              "      <td>59.2</td>\n",
              "      <td>2.367</td>\n",
              "      <td>225.918</td>\n",
              "      <td>43.122</td>\n",
              "      <td>50.639</td>\n",
              "      <td>49.362</td>\n",
              "      <td>0.6</td>\n",
              "    </tr>\n",
              "    <tr>\n",
              "      <th>3</th>\n",
              "      <td>4</td>\n",
              "      <td>Gediminas Petraitis</td>\n",
              "      <td>6</td>\n",
              "      <td>50</td>\n",
              "      <td>46.0</td>\n",
              "      <td>0.380</td>\n",
              "      <td>224.580</td>\n",
              "      <td>40.100</td>\n",
              "      <td>52.120</td>\n",
              "      <td>47.880</td>\n",
              "      <td>1.7</td>\n",
              "    </tr>\n",
              "    <tr>\n",
              "      <th>4</th>\n",
              "      <td>5</td>\n",
              "      <td>Mitchell Ervin</td>\n",
              "      <td>6</td>\n",
              "      <td>48</td>\n",
              "      <td>47.9</td>\n",
              "      <td>-0.979</td>\n",
              "      <td>229.979</td>\n",
              "      <td>43.500</td>\n",
              "      <td>50.862</td>\n",
              "      <td>49.138</td>\n",
              "      <td>0.8</td>\n",
              "    </tr>\n",
              "  </tbody>\n",
              "</table>\n",
              "</div>"
            ],
            "text/plain": [
              "   Rank              Referee  ...  Foul % Against Home Teams  Foul Differential\n",
              "0     1            Karl Lane  ...                     50.571               -0.4\n",
              "1     2           Tyler Ford  ...                     48.514                1.2\n",
              "2     3        Dedric Taylor  ...                     49.362                0.6\n",
              "3     4  Gediminas Petraitis  ...                     47.880                1.7\n",
              "4     5       Mitchell Ervin  ...                     49.138                0.8\n",
              "\n",
              "[5 rows x 11 columns]"
            ]
          },
          "metadata": {
            "tags": []
          },
          "execution_count": 8
        }
      ]
    },
    {
      "cell_type": "code",
      "metadata": {
        "id": "gCN5xAuLDgG3",
        "colab_type": "code",
        "colab": {
          "base_uri": "https://localhost:8080/",
          "height": 221
        },
        "outputId": "d07c09a5-b854-4572-e300-4ad2fab2dd00"
      },
      "source": [
        "df.isnull().sum()"
      ],
      "execution_count": 9,
      "outputs": [
        {
          "output_type": "execute_result",
          "data": {
            "text/plain": [
              "Rank                         0\n",
              "Referee                      0\n",
              "Experience (Years)           0\n",
              "Games Officiated             0\n",
              "Home Team Win%               0\n",
              "Home Team Points Diff        0\n",
              "Total Points Per Game        0\n",
              "Called Fouls Per Game        0\n",
              "Foul % Against Road Teams    0\n",
              "Foul % Against Home Teams    0\n",
              "Foul Differential            0\n",
              "dtype: int64"
            ]
          },
          "metadata": {
            "tags": []
          },
          "execution_count": 9
        }
      ]
    },
    {
      "cell_type": "code",
      "metadata": {
        "id": "gCYLHHGJIKlh",
        "colab_type": "code",
        "colab": {
          "base_uri": "https://localhost:8080/",
          "height": 331
        },
        "outputId": "030ddbcd-b49e-4190-9e39-e62a6ea0cf29"
      },
      "source": [
        "df.describe()"
      ],
      "execution_count": 10,
      "outputs": [
        {
          "output_type": "execute_result",
          "data": {
            "text/html": [
              "<div>\n",
              "<style scoped>\n",
              "    .dataframe tbody tr th:only-of-type {\n",
              "        vertical-align: middle;\n",
              "    }\n",
              "\n",
              "    .dataframe tbody tr th {\n",
              "        vertical-align: top;\n",
              "    }\n",
              "\n",
              "    .dataframe thead th {\n",
              "        text-align: right;\n",
              "    }\n",
              "</style>\n",
              "<table border=\"1\" class=\"dataframe\">\n",
              "  <thead>\n",
              "    <tr style=\"text-align: right;\">\n",
              "      <th></th>\n",
              "      <th>Rank</th>\n",
              "      <th>Experience (Years)</th>\n",
              "      <th>Games Officiated</th>\n",
              "      <th>Home Team Win%</th>\n",
              "      <th>Home Team Points Diff</th>\n",
              "      <th>Total Points Per Game</th>\n",
              "      <th>Called Fouls Per Game</th>\n",
              "      <th>Foul % Against Road Teams</th>\n",
              "      <th>Foul % Against Home Teams</th>\n",
              "      <th>Foul Differential</th>\n",
              "    </tr>\n",
              "  </thead>\n",
              "  <tbody>\n",
              "    <tr>\n",
              "      <th>count</th>\n",
              "      <td>123.000000</td>\n",
              "      <td>123.000000</td>\n",
              "      <td>123.000000</td>\n",
              "      <td>123.000000</td>\n",
              "      <td>123.000000</td>\n",
              "      <td>123.000000</td>\n",
              "      <td>123.000000</td>\n",
              "      <td>123.000000</td>\n",
              "      <td>123.000000</td>\n",
              "      <td>123.000000</td>\n",
              "    </tr>\n",
              "    <tr>\n",
              "      <th>mean</th>\n",
              "      <td>62.000000</td>\n",
              "      <td>14.276423</td>\n",
              "      <td>23.682927</td>\n",
              "      <td>56.958537</td>\n",
              "      <td>3.002675</td>\n",
              "      <td>223.015439</td>\n",
              "      <td>41.292512</td>\n",
              "      <td>50.564699</td>\n",
              "      <td>49.435276</td>\n",
              "      <td>0.463415</td>\n",
              "    </tr>\n",
              "    <tr>\n",
              "      <th>std</th>\n",
              "      <td>35.651087</td>\n",
              "      <td>8.977477</td>\n",
              "      <td>15.201012</td>\n",
              "      <td>19.409605</td>\n",
              "      <td>5.961627</td>\n",
              "      <td>9.295692</td>\n",
              "      <td>2.493615</td>\n",
              "      <td>2.617317</td>\n",
              "      <td>2.617333</td>\n",
              "      <td>2.163606</td>\n",
              "    </tr>\n",
              "    <tr>\n",
              "      <th>min</th>\n",
              "      <td>1.000000</td>\n",
              "      <td>0.000000</td>\n",
              "      <td>1.000000</td>\n",
              "      <td>0.000000</td>\n",
              "      <td>-15.000000</td>\n",
              "      <td>189.000000</td>\n",
              "      <td>34.000000</td>\n",
              "      <td>39.024000</td>\n",
              "      <td>35.000000</td>\n",
              "      <td>-9.000000</td>\n",
              "    </tr>\n",
              "    <tr>\n",
              "      <th>25%</th>\n",
              "      <td>31.500000</td>\n",
              "      <td>8.000000</td>\n",
              "      <td>9.500000</td>\n",
              "      <td>50.000000</td>\n",
              "      <td>0.273500</td>\n",
              "      <td>219.448000</td>\n",
              "      <td>39.889000</td>\n",
              "      <td>49.436000</td>\n",
              "      <td>48.702500</td>\n",
              "      <td>-0.400000</td>\n",
              "    </tr>\n",
              "    <tr>\n",
              "      <th>50%</th>\n",
              "      <td>62.000000</td>\n",
              "      <td>12.000000</td>\n",
              "      <td>25.000000</td>\n",
              "      <td>55.600000</td>\n",
              "      <td>2.533000</td>\n",
              "      <td>222.568000</td>\n",
              "      <td>41.156000</td>\n",
              "      <td>50.475000</td>\n",
              "      <td>49.524000</td>\n",
              "      <td>0.400000</td>\n",
              "    </tr>\n",
              "    <tr>\n",
              "      <th>75%</th>\n",
              "      <td>92.500000</td>\n",
              "      <td>25.000000</td>\n",
              "      <td>36.000000</td>\n",
              "      <td>63.050000</td>\n",
              "      <td>4.402500</td>\n",
              "      <td>225.887500</td>\n",
              "      <td>42.231000</td>\n",
              "      <td>51.297500</td>\n",
              "      <td>50.563500</td>\n",
              "      <td>1.050000</td>\n",
              "    </tr>\n",
              "    <tr>\n",
              "      <th>max</th>\n",
              "      <td>123.000000</td>\n",
              "      <td>32.000000</td>\n",
              "      <td>50.000000</td>\n",
              "      <td>100.000000</td>\n",
              "      <td>29.000000</td>\n",
              "      <td>282.000000</td>\n",
              "      <td>53.000000</td>\n",
              "      <td>65.000000</td>\n",
              "      <td>60.976000</td>\n",
              "      <td>12.000000</td>\n",
              "    </tr>\n",
              "  </tbody>\n",
              "</table>\n",
              "</div>"
            ],
            "text/plain": [
              "             Rank  ...  Foul Differential\n",
              "count  123.000000  ...         123.000000\n",
              "mean    62.000000  ...           0.463415\n",
              "std     35.651087  ...           2.163606\n",
              "min      1.000000  ...          -9.000000\n",
              "25%     31.500000  ...          -0.400000\n",
              "50%     62.000000  ...           0.400000\n",
              "75%     92.500000  ...           1.050000\n",
              "max    123.000000  ...          12.000000\n",
              "\n",
              "[8 rows x 10 columns]"
            ]
          },
          "metadata": {
            "tags": []
          },
          "execution_count": 10
        }
      ]
    },
    {
      "cell_type": "code",
      "metadata": {
        "id": "MwWo5KjOMTDg",
        "colab_type": "code",
        "colab": {
          "base_uri": "https://localhost:8080/",
          "height": 68
        },
        "outputId": "cfe57f0b-6349-4dd4-e18f-d423eaaadd89"
      },
      "source": [
        "!pip install plotly\n",
        "import plotly.express as px"
      ],
      "execution_count": 11,
      "outputs": [
        {
          "output_type": "stream",
          "text": [
            "Requirement already satisfied: plotly in /usr/local/lib/python3.6/dist-packages (4.4.1)\n",
            "Requirement already satisfied: retrying>=1.3.3 in /usr/local/lib/python3.6/dist-packages (from plotly) (1.3.3)\n",
            "Requirement already satisfied: six in /usr/local/lib/python3.6/dist-packages (from plotly) (1.12.0)\n"
          ],
          "name": "stdout"
        }
      ]
    },
    {
      "cell_type": "code",
      "metadata": {
        "id": "TDK40nlljjvb",
        "colab_type": "code",
        "colab": {
          "base_uri": "https://localhost:8080/",
          "height": 289
        },
        "outputId": "bc0c548c-fe4f-4b67-ebd4-064d328ae8f0"
      },
      "source": [
        "df.head()"
      ],
      "execution_count": 12,
      "outputs": [
        {
          "output_type": "execute_result",
          "data": {
            "text/html": [
              "<div>\n",
              "<style scoped>\n",
              "    .dataframe tbody tr th:only-of-type {\n",
              "        vertical-align: middle;\n",
              "    }\n",
              "\n",
              "    .dataframe tbody tr th {\n",
              "        vertical-align: top;\n",
              "    }\n",
              "\n",
              "    .dataframe thead th {\n",
              "        text-align: right;\n",
              "    }\n",
              "</style>\n",
              "<table border=\"1\" class=\"dataframe\">\n",
              "  <thead>\n",
              "    <tr style=\"text-align: right;\">\n",
              "      <th></th>\n",
              "      <th>Rank</th>\n",
              "      <th>Referee</th>\n",
              "      <th>Experience (Years)</th>\n",
              "      <th>Games Officiated</th>\n",
              "      <th>Home Team Win%</th>\n",
              "      <th>Home Team Points Diff</th>\n",
              "      <th>Total Points Per Game</th>\n",
              "      <th>Called Fouls Per Game</th>\n",
              "      <th>Foul % Against Road Teams</th>\n",
              "      <th>Foul % Against Home Teams</th>\n",
              "      <th>Foul Differential</th>\n",
              "    </tr>\n",
              "  </thead>\n",
              "  <tbody>\n",
              "    <tr>\n",
              "      <th>0</th>\n",
              "      <td>1</td>\n",
              "      <td>Karl Lane</td>\n",
              "      <td>10</td>\n",
              "      <td>48</td>\n",
              "      <td>56.3</td>\n",
              "      <td>3.604</td>\n",
              "      <td>215.854</td>\n",
              "      <td>38.271</td>\n",
              "      <td>49.428</td>\n",
              "      <td>50.571</td>\n",
              "      <td>-0.4</td>\n",
              "    </tr>\n",
              "    <tr>\n",
              "      <th>1</th>\n",
              "      <td>2</td>\n",
              "      <td>Tyler Ford</td>\n",
              "      <td>6</td>\n",
              "      <td>49</td>\n",
              "      <td>63.3</td>\n",
              "      <td>2.469</td>\n",
              "      <td>220.796</td>\n",
              "      <td>41.898</td>\n",
              "      <td>51.486</td>\n",
              "      <td>48.514</td>\n",
              "      <td>1.2</td>\n",
              "    </tr>\n",
              "    <tr>\n",
              "      <th>2</th>\n",
              "      <td>3</td>\n",
              "      <td>Dedric Taylor</td>\n",
              "      <td>7</td>\n",
              "      <td>49</td>\n",
              "      <td>59.2</td>\n",
              "      <td>2.367</td>\n",
              "      <td>225.918</td>\n",
              "      <td>43.122</td>\n",
              "      <td>50.639</td>\n",
              "      <td>49.362</td>\n",
              "      <td>0.6</td>\n",
              "    </tr>\n",
              "    <tr>\n",
              "      <th>3</th>\n",
              "      <td>4</td>\n",
              "      <td>Gediminas Petraitis</td>\n",
              "      <td>6</td>\n",
              "      <td>50</td>\n",
              "      <td>46.0</td>\n",
              "      <td>0.380</td>\n",
              "      <td>224.580</td>\n",
              "      <td>40.100</td>\n",
              "      <td>52.120</td>\n",
              "      <td>47.880</td>\n",
              "      <td>1.7</td>\n",
              "    </tr>\n",
              "    <tr>\n",
              "      <th>4</th>\n",
              "      <td>5</td>\n",
              "      <td>Mitchell Ervin</td>\n",
              "      <td>6</td>\n",
              "      <td>48</td>\n",
              "      <td>47.9</td>\n",
              "      <td>-0.979</td>\n",
              "      <td>229.979</td>\n",
              "      <td>43.500</td>\n",
              "      <td>50.862</td>\n",
              "      <td>49.138</td>\n",
              "      <td>0.8</td>\n",
              "    </tr>\n",
              "  </tbody>\n",
              "</table>\n",
              "</div>"
            ],
            "text/plain": [
              "   Rank              Referee  ...  Foul % Against Home Teams  Foul Differential\n",
              "0     1            Karl Lane  ...                     50.571               -0.4\n",
              "1     2           Tyler Ford  ...                     48.514                1.2\n",
              "2     3        Dedric Taylor  ...                     49.362                0.6\n",
              "3     4  Gediminas Petraitis  ...                     47.880                1.7\n",
              "4     5       Mitchell Ervin  ...                     49.138                0.8\n",
              "\n",
              "[5 rows x 11 columns]"
            ]
          },
          "metadata": {
            "tags": []
          },
          "execution_count": 12
        }
      ]
    },
    {
      "cell_type": "code",
      "metadata": {
        "id": "PC1Gexz42XTP",
        "colab_type": "code",
        "colab": {
          "base_uri": "https://localhost:8080/",
          "height": 323
        },
        "outputId": "daa58df5-b33e-4aa9-d6db-b13820e325da"
      },
      "source": [
        "df.sort_values(by='Rank', inplace=True, ascending=True)\n",
        "df.head()"
      ],
      "execution_count": 90,
      "outputs": [
        {
          "output_type": "execute_result",
          "data": {
            "text/html": [
              "<div>\n",
              "<style scoped>\n",
              "    .dataframe tbody tr th:only-of-type {\n",
              "        vertical-align: middle;\n",
              "    }\n",
              "\n",
              "    .dataframe tbody tr th {\n",
              "        vertical-align: top;\n",
              "    }\n",
              "\n",
              "    .dataframe thead th {\n",
              "        text-align: right;\n",
              "    }\n",
              "</style>\n",
              "<table border=\"1\" class=\"dataframe\">\n",
              "  <thead>\n",
              "    <tr style=\"text-align: right;\">\n",
              "      <th></th>\n",
              "      <th>Rank</th>\n",
              "      <th>Referee</th>\n",
              "      <th>Experience (Years)</th>\n",
              "      <th>Games Officiated</th>\n",
              "      <th>Home Team Win%</th>\n",
              "      <th>Home Team Points Diff</th>\n",
              "      <th>Total Points Per Game</th>\n",
              "      <th>Called Fouls Per Game</th>\n",
              "      <th>Foul % Against Road Teams</th>\n",
              "      <th>Foul % Against Home Teams</th>\n",
              "      <th>Foul Differential</th>\n",
              "      <th>Home Team Win % Above 50</th>\n",
              "    </tr>\n",
              "  </thead>\n",
              "  <tbody>\n",
              "    <tr>\n",
              "      <th>0</th>\n",
              "      <td>1</td>\n",
              "      <td>Karl Lane</td>\n",
              "      <td>10</td>\n",
              "      <td>48</td>\n",
              "      <td>56.3</td>\n",
              "      <td>3.604</td>\n",
              "      <td>215.854</td>\n",
              "      <td>38.271</td>\n",
              "      <td>49.428</td>\n",
              "      <td>50.571</td>\n",
              "      <td>-0.4</td>\n",
              "      <td>1</td>\n",
              "    </tr>\n",
              "    <tr>\n",
              "      <th>1</th>\n",
              "      <td>2</td>\n",
              "      <td>Tyler Ford</td>\n",
              "      <td>6</td>\n",
              "      <td>49</td>\n",
              "      <td>63.3</td>\n",
              "      <td>2.469</td>\n",
              "      <td>220.796</td>\n",
              "      <td>41.898</td>\n",
              "      <td>51.486</td>\n",
              "      <td>48.514</td>\n",
              "      <td>1.2</td>\n",
              "      <td>1</td>\n",
              "    </tr>\n",
              "    <tr>\n",
              "      <th>2</th>\n",
              "      <td>3</td>\n",
              "      <td>Dedric Taylor</td>\n",
              "      <td>7</td>\n",
              "      <td>49</td>\n",
              "      <td>59.2</td>\n",
              "      <td>2.367</td>\n",
              "      <td>225.918</td>\n",
              "      <td>43.122</td>\n",
              "      <td>50.639</td>\n",
              "      <td>49.362</td>\n",
              "      <td>0.6</td>\n",
              "      <td>1</td>\n",
              "    </tr>\n",
              "    <tr>\n",
              "      <th>3</th>\n",
              "      <td>4</td>\n",
              "      <td>Gediminas Petraitis</td>\n",
              "      <td>6</td>\n",
              "      <td>50</td>\n",
              "      <td>46.0</td>\n",
              "      <td>0.380</td>\n",
              "      <td>224.580</td>\n",
              "      <td>40.100</td>\n",
              "      <td>52.120</td>\n",
              "      <td>47.880</td>\n",
              "      <td>1.7</td>\n",
              "      <td>1</td>\n",
              "    </tr>\n",
              "    <tr>\n",
              "      <th>4</th>\n",
              "      <td>5</td>\n",
              "      <td>Mitchell Ervin</td>\n",
              "      <td>6</td>\n",
              "      <td>48</td>\n",
              "      <td>47.9</td>\n",
              "      <td>-0.979</td>\n",
              "      <td>229.979</td>\n",
              "      <td>43.500</td>\n",
              "      <td>50.862</td>\n",
              "      <td>49.138</td>\n",
              "      <td>0.8</td>\n",
              "      <td>1</td>\n",
              "    </tr>\n",
              "  </tbody>\n",
              "</table>\n",
              "</div>"
            ],
            "text/plain": [
              "   Rank              Referee  ...  Foul Differential  Home Team Win % Above 50\n",
              "0     1            Karl Lane  ...               -0.4                         1\n",
              "1     2           Tyler Ford  ...                1.2                         1\n",
              "2     3        Dedric Taylor  ...                0.6                         1\n",
              "3     4  Gediminas Petraitis  ...                1.7                         1\n",
              "4     5       Mitchell Ervin  ...                0.8                         1\n",
              "\n",
              "[5 rows x 12 columns]"
            ]
          },
          "metadata": {
            "tags": []
          },
          "execution_count": 90
        }
      ]
    },
    {
      "cell_type": "code",
      "metadata": {
        "id": "hmBcvGA_MMxy",
        "colab_type": "code",
        "colab": {
          "base_uri": "https://localhost:8080/",
          "height": 542
        },
        "outputId": "85f1250a-333a-438b-c081-2a48a06f6398"
      },
      "source": [
        "import plotly.graph_objs as go\n",
        "import plotly.express as px\n",
        "fig = px.scatter(x=df[\"Called Fouls Per Game\"], y=df[\"Foul % Against Home Teams\"],\n",
        "                 labels={'x':'Called Fouls Per Game', 'y':'Foul % Against Teams'},\n",
        "                 color_discrete_sequence=[\"black\"], range_y=[45,55])\n",
        "color1 = 'black'\n",
        "name1 = 'Home Teams'\n",
        "\n",
        "trace0 = go.Scatter(\n",
        "    x = df[\"Called Fouls Per Game\"],\n",
        "    y = df[\"Foul % Against Home Teams\"],\n",
        "    mode = 'markers',\n",
        "    marker = {'color': color1},\n",
        "    name = name1\n",
        ")\n",
        "fig.add_trace(trace0)\n",
        "\n",
        "\n",
        "fig.update_layout(title='How NBA Refs Call Fouls',\n",
        "                   font=dict(\n",
        "        family=\"Courier New, monospace\",\n",
        "        size=18,\n",
        "        color=\"#0a0801\"\n",
        "    ))\n",
        "\n",
        "\n",
        "fig.add_scatter(x=df[\"Called Fouls Per Game\"], y=df[\"Foul % Against Road Teams\"], \n",
        "                name='Road Teams', mode='markers')\n",
        "fig.layout.plot_bgcolor = '#DCDCDC'\n",
        "fig.show()"
      ],
      "execution_count": 105,
      "outputs": [
        {
          "output_type": "display_data",
          "data": {
            "text/html": [
              "<html>\n",
              "<head><meta charset=\"utf-8\" /></head>\n",
              "<body>\n",
              "    <div>\n",
              "            <script src=\"https://cdnjs.cloudflare.com/ajax/libs/mathjax/2.7.5/MathJax.js?config=TeX-AMS-MML_SVG\"></script><script type=\"text/javascript\">if (window.MathJax) {MathJax.Hub.Config({SVG: {font: \"STIX-Web\"}});}</script>\n",
              "                <script type=\"text/javascript\">window.PlotlyConfig = {MathJaxConfig: 'local'};</script>\n",
              "        <script src=\"https://cdn.plot.ly/plotly-latest.min.js\"></script>    \n",
              "            <div id=\"eac79180-0dc3-478f-8fd7-df9ca8f41559\" class=\"plotly-graph-div\" style=\"height:525px; width:100%;\"></div>\n",
              "            <script type=\"text/javascript\">\n",
              "                \n",
              "                    window.PLOTLYENV=window.PLOTLYENV || {};\n",
              "                    \n",
              "                if (document.getElementById(\"eac79180-0dc3-478f-8fd7-df9ca8f41559\")) {\n",
              "                    Plotly.newPlot(\n",
              "                        'eac79180-0dc3-478f-8fd7-df9ca8f41559',\n",
              "                        [{\"hoverlabel\": {\"namelength\": 0}, \"hovertemplate\": \"Called Fouls Per Game=%{x}<br>Foul % Against Teams=%{y}\", \"legendgroup\": \"\", \"marker\": {\"color\": \"black\", \"symbol\": \"circle\"}, \"mode\": \"markers\", \"name\": \"\", \"showlegend\": false, \"type\": \"scatter\", \"x\": [38.271, 41.898, 43.122, 40.1, 43.5, 41.156, 41.447, 40.936, 39.149, 40.822, 42.851, 42.109, 41.933, 40.674, 41.341, 42.0, 41.884, 43.047, 39.881, 39.429, 40.976, 41.024, 39.575, 39.571, 42.375, 41.615, 42.667, 40.268, 40.556, 41.0, 40.919, 38.694, 41.857, 39.694, 40.152, 42.063, 42.229, 39.75, 42.031, 38.8, 39.897, 41.167, 40.909, 42.613, 40.483, 40.267, 39.867, 39.821, 42.233, 43.207, 40.071, 39.69, 43.179, 40.519, 41.0, 41.933, 40.692, 41.714, 41.16, 41.84, 42.56, 41.96, 45.045, 41.182, 42.077, 41.773, 43.333, 39.208, 38.19, 41.571, 40.421, 40.0, 40.0, 42.706, 41.875, 44.706, 44.588, 41.294, 39.444, 42.294, 41.308, 40.154, 40.231, 41.0, 44.688, 43.231, 40.154, 41.308, 40.273, 41.2, 39.25, 37.875, 42.25, 39.667, 39.0, 41.4, 39.125, 47.143, 43.125, 41.375, 36.75, 39.167, 40.6, 41.6, 39.5, 39.75, 44.667, 45.333, 39.0, 42.5, 39.5, 43.0, 40.0, 34.0, 49.0, 36.0, 35.0, 43.0, 49.0, 38.0, 48.0, 53.0, 41.0], \"xaxis\": \"x\", \"y\": [50.571, 48.514, 49.362, 47.88, 49.138, 49.46, 50.102, 51.404, 47.5, 49.646, 48.858, 49.251, 49.179, 49.743, 50.082, 49.093, 49.639, 51.161, 48.06, 50.06, 49.855, 48.217, 49.147, 51.986, 48.496, 50.586, 51.202, 50.818, 48.972, 48.468, 48.679, 49.534, 48.806, 52.485, 50.792, 49.628, 48.782, 50.157, 51.004, 49.705, 49.524, 52.064, 49.408, 47.918, 49.829, 49.668, 49.08, 48.879, 49.33, 49.88, 50.624, 49.261, 50.289, 47.806, 47.877, 47.218, 47.637, 48.63, 49.563, 50.86, 50.47, 49.571, 50.656, 49.117, 49.634, 49.292, 49.671, 48.885, 50.001, 47.996, 50.781, 47.727, 50.556, 53.168, 49.403, 46.579, 47.889, 48.148, 47.465, 49.374, 51.582, 49.042, 49.713, 48.637, 49.23, 48.932, 51.149, 50.465, 48.307, 50.0, 48.726, 46.865, 53.254, 48.179, 52.35, 51.932, 48.882, 53.03, 48.986, 50.755, 48.98, 50.638, 49.754, 48.077, 50.0, 52.201, 46.268, 55.883, 42.308, 42.353, 40.506, 51.163, 35.0, 52.941, 53.061, 50.0, 50.0, 48.837, 51.02, 50.0, 43.75, 49.057, 60.976], \"yaxis\": \"y\"}, {\"marker\": {\"color\": \"black\"}, \"mode\": \"markers\", \"name\": \"Home Teams\", \"type\": \"scatter\", \"x\": [38.271, 41.898, 43.122, 40.1, 43.5, 41.156, 41.447, 40.936, 39.149, 40.822, 42.851, 42.109, 41.933, 40.674, 41.341, 42.0, 41.884, 43.047, 39.881, 39.429, 40.976, 41.024, 39.575, 39.571, 42.375, 41.615, 42.667, 40.268, 40.556, 41.0, 40.919, 38.694, 41.857, 39.694, 40.152, 42.063, 42.229, 39.75, 42.031, 38.8, 39.897, 41.167, 40.909, 42.613, 40.483, 40.267, 39.867, 39.821, 42.233, 43.207, 40.071, 39.69, 43.179, 40.519, 41.0, 41.933, 40.692, 41.714, 41.16, 41.84, 42.56, 41.96, 45.045, 41.182, 42.077, 41.773, 43.333, 39.208, 38.19, 41.571, 40.421, 40.0, 40.0, 42.706, 41.875, 44.706, 44.588, 41.294, 39.444, 42.294, 41.308, 40.154, 40.231, 41.0, 44.688, 43.231, 40.154, 41.308, 40.273, 41.2, 39.25, 37.875, 42.25, 39.667, 39.0, 41.4, 39.125, 47.143, 43.125, 41.375, 36.75, 39.167, 40.6, 41.6, 39.5, 39.75, 44.667, 45.333, 39.0, 42.5, 39.5, 43.0, 40.0, 34.0, 49.0, 36.0, 35.0, 43.0, 49.0, 38.0, 48.0, 53.0, 41.0], \"y\": [50.571, 48.514, 49.362, 47.88, 49.138, 49.46, 50.102, 51.404, 47.5, 49.646, 48.858, 49.251, 49.179, 49.743, 50.082, 49.093, 49.639, 51.161, 48.06, 50.06, 49.855, 48.217, 49.147, 51.986, 48.496, 50.586, 51.202, 50.818, 48.972, 48.468, 48.679, 49.534, 48.806, 52.485, 50.792, 49.628, 48.782, 50.157, 51.004, 49.705, 49.524, 52.064, 49.408, 47.918, 49.829, 49.668, 49.08, 48.879, 49.33, 49.88, 50.624, 49.261, 50.289, 47.806, 47.877, 47.218, 47.637, 48.63, 49.563, 50.86, 50.47, 49.571, 50.656, 49.117, 49.634, 49.292, 49.671, 48.885, 50.001, 47.996, 50.781, 47.727, 50.556, 53.168, 49.403, 46.579, 47.889, 48.148, 47.465, 49.374, 51.582, 49.042, 49.713, 48.637, 49.23, 48.932, 51.149, 50.465, 48.307, 50.0, 48.726, 46.865, 53.254, 48.179, 52.35, 51.932, 48.882, 53.03, 48.986, 50.755, 48.98, 50.638, 49.754, 48.077, 50.0, 52.201, 46.268, 55.883, 42.308, 42.353, 40.506, 51.163, 35.0, 52.941, 53.061, 50.0, 50.0, 48.837, 51.02, 50.0, 43.75, 49.057, 60.976]}, {\"mode\": \"markers\", \"name\": \"Road Teams\", \"type\": \"scatter\", \"x\": [38.271, 41.898, 43.122, 40.1, 43.5, 41.156, 41.447, 40.936, 39.149, 40.822, 42.851, 42.109, 41.933, 40.674, 41.341, 42.0, 41.884, 43.047, 39.881, 39.429, 40.976, 41.024, 39.575, 39.571, 42.375, 41.615, 42.667, 40.268, 40.556, 41.0, 40.919, 38.694, 41.857, 39.694, 40.152, 42.063, 42.229, 39.75, 42.031, 38.8, 39.897, 41.167, 40.909, 42.613, 40.483, 40.267, 39.867, 39.821, 42.233, 43.207, 40.071, 39.69, 43.179, 40.519, 41.0, 41.933, 40.692, 41.714, 41.16, 41.84, 42.56, 41.96, 45.045, 41.182, 42.077, 41.773, 43.333, 39.208, 38.19, 41.571, 40.421, 40.0, 40.0, 42.706, 41.875, 44.706, 44.588, 41.294, 39.444, 42.294, 41.308, 40.154, 40.231, 41.0, 44.688, 43.231, 40.154, 41.308, 40.273, 41.2, 39.25, 37.875, 42.25, 39.667, 39.0, 41.4, 39.125, 47.143, 43.125, 41.375, 36.75, 39.167, 40.6, 41.6, 39.5, 39.75, 44.667, 45.333, 39.0, 42.5, 39.5, 43.0, 40.0, 34.0, 49.0, 36.0, 35.0, 43.0, 49.0, 38.0, 48.0, 53.0, 41.0], \"y\": [49.428, 51.486, 50.639, 52.12, 50.862, 50.539, 49.897, 48.597, 52.5, 50.354, 51.142, 50.748, 50.822, 50.258, 49.917, 50.907, 50.361, 48.838, 51.94, 49.939, 50.145, 51.784, 50.853, 48.015, 51.504, 49.415, 48.798, 49.183, 51.027, 51.532, 51.321, 50.467, 51.195, 47.516, 49.207, 50.371, 51.217, 49.843, 48.997, 50.295, 50.475, 47.935, 50.593, 52.082, 50.17, 50.331, 50.919, 51.122, 50.671, 50.12, 49.377, 50.738, 49.71, 52.193, 52.123, 52.783, 52.363, 51.37, 50.437, 49.14, 49.53, 50.429, 49.345, 50.883, 50.366, 50.707, 50.33, 51.116, 50.001, 52.005, 49.219, 52.273, 49.444, 46.832, 50.597, 53.421, 52.111, 51.852, 52.536, 50.626, 48.417, 50.958, 50.287, 51.363, 50.769, 51.067, 48.85, 49.534, 51.693, 50.0, 51.274, 53.135, 46.746, 51.82, 47.65, 48.068, 51.118, 46.97, 51.014, 49.245, 51.02, 49.361, 50.246, 51.923, 50.0, 47.799, 53.731, 44.118, 57.692, 57.647, 59.494, 48.837, 65.0, 47.059, 46.939, 50.0, 50.0, 51.163, 48.98, 50.0, 56.25, 50.943, 39.024]}],\n",
              "                        {\"font\": {\"color\": \"#0a0801\", \"family\": \"Courier New, monospace\", \"size\": 18}, \"legend\": {\"tracegroupgap\": 0}, \"margin\": {\"t\": 60}, \"plot_bgcolor\": \"#DCDCDC\", \"template\": {\"data\": {\"bar\": [{\"error_x\": {\"color\": \"#2a3f5f\"}, \"error_y\": {\"color\": \"#2a3f5f\"}, \"marker\": {\"line\": {\"color\": \"#E5ECF6\", \"width\": 0.5}}, \"type\": \"bar\"}], \"barpolar\": [{\"marker\": {\"line\": {\"color\": \"#E5ECF6\", \"width\": 0.5}}, \"type\": \"barpolar\"}], \"carpet\": [{\"aaxis\": {\"endlinecolor\": \"#2a3f5f\", \"gridcolor\": \"white\", \"linecolor\": \"white\", \"minorgridcolor\": \"white\", \"startlinecolor\": \"#2a3f5f\"}, \"baxis\": {\"endlinecolor\": \"#2a3f5f\", \"gridcolor\": \"white\", \"linecolor\": \"white\", \"minorgridcolor\": \"white\", \"startlinecolor\": \"#2a3f5f\"}, \"type\": \"carpet\"}], \"choropleth\": [{\"colorbar\": {\"outlinewidth\": 0, \"ticks\": \"\"}, \"type\": \"choropleth\"}], \"contour\": [{\"colorbar\": {\"outlinewidth\": 0, \"ticks\": \"\"}, \"colorscale\": [[0.0, \"#0d0887\"], [0.1111111111111111, \"#46039f\"], [0.2222222222222222, \"#7201a8\"], [0.3333333333333333, \"#9c179e\"], [0.4444444444444444, \"#bd3786\"], [0.5555555555555556, \"#d8576b\"], [0.6666666666666666, \"#ed7953\"], [0.7777777777777778, \"#fb9f3a\"], [0.8888888888888888, \"#fdca26\"], [1.0, \"#f0f921\"]], \"type\": \"contour\"}], \"contourcarpet\": [{\"colorbar\": {\"outlinewidth\": 0, \"ticks\": \"\"}, \"type\": \"contourcarpet\"}], \"heatmap\": [{\"colorbar\": {\"outlinewidth\": 0, \"ticks\": \"\"}, \"colorscale\": [[0.0, \"#0d0887\"], [0.1111111111111111, \"#46039f\"], [0.2222222222222222, \"#7201a8\"], [0.3333333333333333, \"#9c179e\"], [0.4444444444444444, \"#bd3786\"], [0.5555555555555556, \"#d8576b\"], [0.6666666666666666, \"#ed7953\"], [0.7777777777777778, \"#fb9f3a\"], [0.8888888888888888, \"#fdca26\"], [1.0, \"#f0f921\"]], \"type\": \"heatmap\"}], \"heatmapgl\": [{\"colorbar\": {\"outlinewidth\": 0, \"ticks\": \"\"}, \"colorscale\": [[0.0, \"#0d0887\"], [0.1111111111111111, \"#46039f\"], [0.2222222222222222, \"#7201a8\"], [0.3333333333333333, \"#9c179e\"], [0.4444444444444444, \"#bd3786\"], [0.5555555555555556, \"#d8576b\"], [0.6666666666666666, \"#ed7953\"], [0.7777777777777778, \"#fb9f3a\"], [0.8888888888888888, \"#fdca26\"], [1.0, \"#f0f921\"]], \"type\": \"heatmapgl\"}], \"histogram\": [{\"marker\": {\"colorbar\": {\"outlinewidth\": 0, \"ticks\": \"\"}}, \"type\": \"histogram\"}], \"histogram2d\": [{\"colorbar\": {\"outlinewidth\": 0, \"ticks\": \"\"}, \"colorscale\": [[0.0, \"#0d0887\"], [0.1111111111111111, \"#46039f\"], [0.2222222222222222, \"#7201a8\"], [0.3333333333333333, \"#9c179e\"], [0.4444444444444444, \"#bd3786\"], [0.5555555555555556, \"#d8576b\"], [0.6666666666666666, \"#ed7953\"], [0.7777777777777778, \"#fb9f3a\"], [0.8888888888888888, \"#fdca26\"], [1.0, \"#f0f921\"]], \"type\": \"histogram2d\"}], \"histogram2dcontour\": [{\"colorbar\": {\"outlinewidth\": 0, \"ticks\": \"\"}, \"colorscale\": [[0.0, \"#0d0887\"], [0.1111111111111111, \"#46039f\"], [0.2222222222222222, \"#7201a8\"], [0.3333333333333333, \"#9c179e\"], [0.4444444444444444, \"#bd3786\"], [0.5555555555555556, \"#d8576b\"], [0.6666666666666666, \"#ed7953\"], [0.7777777777777778, \"#fb9f3a\"], [0.8888888888888888, \"#fdca26\"], [1.0, \"#f0f921\"]], \"type\": \"histogram2dcontour\"}], \"mesh3d\": [{\"colorbar\": {\"outlinewidth\": 0, \"ticks\": \"\"}, \"type\": \"mesh3d\"}], \"parcoords\": [{\"line\": {\"colorbar\": {\"outlinewidth\": 0, \"ticks\": \"\"}}, \"type\": \"parcoords\"}], \"pie\": [{\"automargin\": true, \"type\": \"pie\"}], \"scatter\": [{\"marker\": {\"colorbar\": {\"outlinewidth\": 0, \"ticks\": \"\"}}, \"type\": \"scatter\"}], \"scatter3d\": [{\"line\": {\"colorbar\": {\"outlinewidth\": 0, \"ticks\": \"\"}}, \"marker\": {\"colorbar\": {\"outlinewidth\": 0, \"ticks\": \"\"}}, \"type\": \"scatter3d\"}], \"scattercarpet\": [{\"marker\": {\"colorbar\": {\"outlinewidth\": 0, \"ticks\": \"\"}}, \"type\": \"scattercarpet\"}], \"scattergeo\": [{\"marker\": {\"colorbar\": {\"outlinewidth\": 0, \"ticks\": \"\"}}, \"type\": \"scattergeo\"}], \"scattergl\": [{\"marker\": {\"colorbar\": {\"outlinewidth\": 0, \"ticks\": \"\"}}, \"type\": \"scattergl\"}], \"scattermapbox\": [{\"marker\": {\"colorbar\": {\"outlinewidth\": 0, \"ticks\": \"\"}}, \"type\": \"scattermapbox\"}], \"scatterpolar\": [{\"marker\": {\"colorbar\": {\"outlinewidth\": 0, \"ticks\": \"\"}}, \"type\": \"scatterpolar\"}], \"scatterpolargl\": [{\"marker\": {\"colorbar\": {\"outlinewidth\": 0, \"ticks\": \"\"}}, \"type\": \"scatterpolargl\"}], \"scatterternary\": [{\"marker\": {\"colorbar\": {\"outlinewidth\": 0, \"ticks\": \"\"}}, \"type\": \"scatterternary\"}], \"surface\": [{\"colorbar\": {\"outlinewidth\": 0, \"ticks\": \"\"}, \"colorscale\": [[0.0, \"#0d0887\"], [0.1111111111111111, \"#46039f\"], [0.2222222222222222, \"#7201a8\"], [0.3333333333333333, \"#9c179e\"], [0.4444444444444444, \"#bd3786\"], [0.5555555555555556, \"#d8576b\"], [0.6666666666666666, \"#ed7953\"], [0.7777777777777778, \"#fb9f3a\"], [0.8888888888888888, \"#fdca26\"], [1.0, \"#f0f921\"]], \"type\": \"surface\"}], \"table\": [{\"cells\": {\"fill\": {\"color\": \"#EBF0F8\"}, \"line\": {\"color\": \"white\"}}, \"header\": {\"fill\": {\"color\": \"#C8D4E3\"}, \"line\": {\"color\": \"white\"}}, \"type\": \"table\"}]}, \"layout\": {\"annotationdefaults\": {\"arrowcolor\": \"#2a3f5f\", \"arrowhead\": 0, \"arrowwidth\": 1}, \"coloraxis\": {\"colorbar\": {\"outlinewidth\": 0, \"ticks\": \"\"}}, \"colorscale\": {\"diverging\": [[0, \"#8e0152\"], [0.1, \"#c51b7d\"], [0.2, \"#de77ae\"], [0.3, \"#f1b6da\"], [0.4, \"#fde0ef\"], [0.5, \"#f7f7f7\"], [0.6, \"#e6f5d0\"], [0.7, \"#b8e186\"], [0.8, \"#7fbc41\"], [0.9, \"#4d9221\"], [1, \"#276419\"]], \"sequential\": [[0.0, \"#0d0887\"], [0.1111111111111111, \"#46039f\"], [0.2222222222222222, \"#7201a8\"], [0.3333333333333333, \"#9c179e\"], [0.4444444444444444, \"#bd3786\"], [0.5555555555555556, \"#d8576b\"], [0.6666666666666666, \"#ed7953\"], [0.7777777777777778, \"#fb9f3a\"], [0.8888888888888888, \"#fdca26\"], [1.0, \"#f0f921\"]], \"sequentialminus\": [[0.0, \"#0d0887\"], [0.1111111111111111, \"#46039f\"], [0.2222222222222222, \"#7201a8\"], [0.3333333333333333, \"#9c179e\"], [0.4444444444444444, \"#bd3786\"], [0.5555555555555556, \"#d8576b\"], [0.6666666666666666, \"#ed7953\"], [0.7777777777777778, \"#fb9f3a\"], [0.8888888888888888, \"#fdca26\"], [1.0, \"#f0f921\"]]}, \"colorway\": [\"#636efa\", \"#EF553B\", \"#00cc96\", \"#ab63fa\", \"#FFA15A\", \"#19d3f3\", \"#FF6692\", \"#B6E880\", \"#FF97FF\", \"#FECB52\"], \"font\": {\"color\": \"#2a3f5f\"}, \"geo\": {\"bgcolor\": \"white\", \"lakecolor\": \"white\", \"landcolor\": \"#E5ECF6\", \"showlakes\": true, \"showland\": true, \"subunitcolor\": \"white\"}, \"hoverlabel\": {\"align\": \"left\"}, \"hovermode\": \"closest\", \"mapbox\": {\"style\": \"light\"}, \"paper_bgcolor\": \"white\", \"plot_bgcolor\": \"#E5ECF6\", \"polar\": {\"angularaxis\": {\"gridcolor\": \"white\", \"linecolor\": \"white\", \"ticks\": \"\"}, \"bgcolor\": \"#E5ECF6\", \"radialaxis\": {\"gridcolor\": \"white\", \"linecolor\": \"white\", \"ticks\": \"\"}}, \"scene\": {\"xaxis\": {\"backgroundcolor\": \"#E5ECF6\", \"gridcolor\": \"white\", \"gridwidth\": 2, \"linecolor\": \"white\", \"showbackground\": true, \"ticks\": \"\", \"zerolinecolor\": \"white\"}, \"yaxis\": {\"backgroundcolor\": \"#E5ECF6\", \"gridcolor\": \"white\", \"gridwidth\": 2, \"linecolor\": \"white\", \"showbackground\": true, \"ticks\": \"\", \"zerolinecolor\": \"white\"}, \"zaxis\": {\"backgroundcolor\": \"#E5ECF6\", \"gridcolor\": \"white\", \"gridwidth\": 2, \"linecolor\": \"white\", \"showbackground\": true, \"ticks\": \"\", \"zerolinecolor\": \"white\"}}, \"shapedefaults\": {\"line\": {\"color\": \"#2a3f5f\"}}, \"ternary\": {\"aaxis\": {\"gridcolor\": \"white\", \"linecolor\": \"white\", \"ticks\": \"\"}, \"baxis\": {\"gridcolor\": \"white\", \"linecolor\": \"white\", \"ticks\": \"\"}, \"bgcolor\": \"#E5ECF6\", \"caxis\": {\"gridcolor\": \"white\", \"linecolor\": \"white\", \"ticks\": \"\"}}, \"title\": {\"x\": 0.05}, \"xaxis\": {\"automargin\": true, \"gridcolor\": \"white\", \"linecolor\": \"white\", \"ticks\": \"\", \"title\": {\"standoff\": 15}, \"zerolinecolor\": \"white\", \"zerolinewidth\": 2}, \"yaxis\": {\"automargin\": true, \"gridcolor\": \"white\", \"linecolor\": \"white\", \"ticks\": \"\", \"title\": {\"standoff\": 15}, \"zerolinecolor\": \"white\", \"zerolinewidth\": 2}}}, \"title\": {\"text\": \"How NBA Refs Call Fouls\"}, \"xaxis\": {\"anchor\": \"y\", \"domain\": [0.0, 1.0], \"title\": {\"text\": \"Called Fouls Per Game\"}}, \"yaxis\": {\"anchor\": \"x\", \"domain\": [0.0, 1.0], \"range\": [45, 55], \"title\": {\"text\": \"Foul % Against Teams\"}}},\n",
              "                        {\"responsive\": true}\n",
              "                    ).then(function(){\n",
              "                            \n",
              "var gd = document.getElementById('eac79180-0dc3-478f-8fd7-df9ca8f41559');\n",
              "var x = new MutationObserver(function (mutations, observer) {{\n",
              "        var display = window.getComputedStyle(gd).display;\n",
              "        if (!display || display === 'none') {{\n",
              "            console.log([gd, 'removed!']);\n",
              "            Plotly.purge(gd);\n",
              "            observer.disconnect();\n",
              "        }}\n",
              "}});\n",
              "\n",
              "// Listen for the removal of the full notebook cells\n",
              "var notebookContainer = gd.closest('#notebook-container');\n",
              "if (notebookContainer) {{\n",
              "    x.observe(notebookContainer, {childList: true});\n",
              "}}\n",
              "\n",
              "// Listen for the clearing of the current output cell\n",
              "var outputEl = gd.closest('.output');\n",
              "if (outputEl) {{\n",
              "    x.observe(outputEl, {childList: true});\n",
              "}}\n",
              "\n",
              "                        })\n",
              "                };\n",
              "                \n",
              "            </script>\n",
              "        </div>\n",
              "</body>\n",
              "</html>"
            ]
          },
          "metadata": {
            "tags": []
          }
        }
      ]
    },
    {
      "cell_type": "code",
      "metadata": {
        "id": "gLQlyiYQVqmf",
        "colab_type": "code",
        "colab": {
          "base_uri": "https://localhost:8080/",
          "height": 68
        },
        "outputId": "991d4863-3d28-4c1d-ab4c-6df343c77ccc"
      },
      "source": [
        "df['Home Team Win % Above 50'] = (df['Home Team Win%'] >= .500).astype(int)\n",
        "df['Home Team Win % Above 50'].value_counts()\n",
        "\n"
      ],
      "execution_count": 45,
      "outputs": [
        {
          "output_type": "execute_result",
          "data": {
            "text/plain": [
              "1    118\n",
              "0      5\n",
              "Name: Home Team Win % Above 50, dtype: int64"
            ]
          },
          "metadata": {
            "tags": []
          },
          "execution_count": 45
        }
      ]
    },
    {
      "cell_type": "code",
      "metadata": {
        "id": "1vZFu2FseVGf",
        "colab_type": "code",
        "colab": {
          "base_uri": "https://localhost:8080/",
          "height": 542
        },
        "outputId": "ddad8a44-e974-45a8-8a58-7ea12237474e"
      },
      "source": [
        "import plotly.figure_factory as ff\n",
        "import numpy as np\n",
        "\n",
        "hist_data = [df['Foul Differential'],df['Home Team Points Diff']]\n",
        "\n",
        "group_labels = ['Average Foul Differential per Referee', 'Average Home Team Point Differential per Referee']\n",
        "\n",
        "fig = ff.create_distplot(hist_data, group_labels, colors=('red','blue'))\n",
        "\n",
        "fig.update_layout(title='Does Foul Differential Impact Margin of Victory?',\n",
        "                   font=dict(\n",
        "        family=\"Courier New, monospace\",\n",
        "        size=18,\n",
        "        color=\"#0a0801\"\n",
        "    ))\n",
        "\n",
        "fig.layout.plot_bgcolor = '#DCDCDC'\n",
        "\n",
        "fig.show()"
      ],
      "execution_count": 97,
      "outputs": [
        {
          "output_type": "display_data",
          "data": {
            "text/html": [
              "<html>\n",
              "<head><meta charset=\"utf-8\" /></head>\n",
              "<body>\n",
              "    <div>\n",
              "            <script src=\"https://cdnjs.cloudflare.com/ajax/libs/mathjax/2.7.5/MathJax.js?config=TeX-AMS-MML_SVG\"></script><script type=\"text/javascript\">if (window.MathJax) {MathJax.Hub.Config({SVG: {font: \"STIX-Web\"}});}</script>\n",
              "                <script type=\"text/javascript\">window.PlotlyConfig = {MathJaxConfig: 'local'};</script>\n",
              "        <script src=\"https://cdn.plot.ly/plotly-latest.min.js\"></script>    \n",
              "            <div id=\"36b0349c-87bf-4823-b570-b62b8a8c522c\" class=\"plotly-graph-div\" style=\"height:525px; width:100%;\"></div>\n",
              "            <script type=\"text/javascript\">\n",
              "                \n",
              "                    window.PLOTLYENV=window.PLOTLYENV || {};\n",
              "                    \n",
              "                if (document.getElementById(\"36b0349c-87bf-4823-b570-b62b8a8c522c\")) {\n",
              "                    Plotly.newPlot(\n",
              "                        '36b0349c-87bf-4823-b570-b62b8a8c522c',\n",
              "                        [{\"autobinx\": false, \"histnorm\": \"probability density\", \"legendgroup\": \"Average Foul Differential per Referee\", \"marker\": {\"color\": \"red\"}, \"name\": \"Average Foul Differential per Referee\", \"opacity\": 0.7, \"type\": \"histogram\", \"x\": [-0.4, 1.2, 0.6, 1.7, 0.8, 0.4, -0.1, -1.1, 2.0, 0.3, 1.0, 0.6, 0.7, 0.2, -0.1, 0.8, 0.3, -1.0, 1.5, 0.0, 0.1, 1.5, 0.7, -1.6, 1.3, -0.5, -1.0, -0.7, 0.8, 1.3, 1.1, 0.4, 1.0, -2.0, -0.6, 0.3, 1.0, -0.1, -0.8, 0.2, 0.4, -1.7, 0.5, 1.8, 0.1, 0.3, 0.7, 0.9, 0.6, 0.1, -0.5, 0.6, -0.3, 1.8, 1.7, 2.3, 1.9, 1.1, 0.4, -0.7, -0.4, 0.4, -0.6, 0.7, 0.3, 0.6, 0.3, 0.9, 0.0, 1.7, -0.6, 1.8, -0.4, -2.7, 0.5, 3.1, 1.9, 1.5, 2.0, 0.5, -1.3, 0.8, 0.2, 1.1, 0.7, 0.9, -0.9, -0.4, 1.4, 0.0, 1.0, 2.4, -2.8, 1.4, -1.8, -1.6, 0.9, -2.9, 0.9, -0.6, 0.8, -0.5, 0.2, 1.6, 0.0, -1.8, 3.3, -5.3, 6.0, 6.5, 7.5, -1.0, 12.0, -2.0, -3.0, 0.0, 0.0, 1.0, -1.0, 0.0, 6.0, 1.0, -9.0], \"xaxis\": \"x\", \"xbins\": {\"end\": 12.0, \"size\": 1.0, \"start\": -9.0}, \"yaxis\": \"y\"}, {\"autobinx\": false, \"histnorm\": \"probability density\", \"legendgroup\": \"Average Home Team Point Differential per Referee\", \"marker\": {\"color\": \"blue\"}, \"name\": \"Average Home Team Point Differential per Referee\", \"opacity\": 0.7, \"type\": \"histogram\", \"x\": [3.604, 2.469, 2.367, 0.38, -0.979, 4.667, 3.766, 1.894, 3.596, 4.711, 0.979, 0.674, 3.556, 5.512, 4.136, 2.31, 3.721, 1.767, 2.857, 2.143, -1.048, 6.268, 3.15, 0.095, 4.35, 2.667, 3.333, -1.146, 0.639, 3.59, 0.514, 1.667, 3.486, -1.611, -1.364, 1.125, 2.943, 0.75, 1.75, 2.886, 4.759, -1.033, 4.455, 1.323, -0.138, 2.933, -0.533, 0.5, 2.533, 1.483, 1.286, 0.034, 2.571, 3.741, 3.148, -5.267, 2.654, 1.857, 2.64, 3.28, 7.68, -3.72, 1.591, 2.091, 4.154, -0.864, -0.19, 1.958, 4.286, 1.19, -0.263, 0.818, -3.167, -2.765, 7.5, 9.941, -1.353, -1.118, 5.111, 3.294, 0.615, 3.154, 3.154, 1.294, 5.125, 5.0, -1.846, 3.0, -1.545, 5.8, 4.125, 5.375, 5.125, 2.556, 0.167, 1.2, 11.125, 7.714, 1.5, 2.125, 9.375, 11.167, -1.6, -2.2, -1.25, 9.5, 5.0, 14.0, -15.0, 23.0, 16.5, 4.5, 5.0, 8.0, 16.0, -2.0, -8.0, -8.0, 29.0, -12.0, -1.0, 20.0, 28.0], \"xaxis\": \"x\", \"xbins\": {\"end\": 29.0, \"size\": 1.0, \"start\": -15.0}, \"yaxis\": \"y\"}, {\"legendgroup\": \"Average Foul Differential per Referee\", \"marker\": {\"color\": \"red\"}, \"mode\": \"lines\", \"name\": \"Average Foul Differential per Referee\", \"showlegend\": false, \"type\": \"scatter\", \"x\": [-9.0, -8.958, -8.916, -8.874, -8.832, -8.79, -8.748, -8.706, -8.664, -8.622, -8.58, -8.538, -8.496, -8.454, -8.412, -8.37, -8.328, -8.286, -8.244, -8.202, -8.16, -8.118, -8.076, -8.034, -7.992, -7.95, -7.9079999999999995, -7.866, -7.824, -7.782, -7.74, -7.698, -7.656, -7.614, -7.572, -7.53, -7.4879999999999995, -7.446, -7.404, -7.362, -7.32, -7.2780000000000005, -7.236, -7.194, -7.152, -7.11, -7.068, -7.026, -6.984, -6.942, -6.9, -6.8580000000000005, -6.816, -6.774, -6.732, -6.6899999999999995, -6.648, -6.606, -6.564, -6.522, -6.48, -6.438000000000001, -6.396, -6.354, -6.311999999999999, -6.27, -6.228, -6.186, -6.144, -6.102, -6.0600000000000005, -6.018, -5.976, -5.934, -5.8919999999999995, -5.85, -5.808, -5.766, -5.724, -5.682, -5.640000000000001, -5.598, -5.556, -5.513999999999999, -5.4719999999999995, -5.43, -5.388, -5.346, -5.304, -5.2620000000000005, -5.220000000000001, -5.178, -5.136, -5.093999999999999, -5.052, -5.01, -4.968, -4.926, -4.884, -4.842, -4.8, -4.758, -4.716, -4.674, -4.632, -4.59, -4.548, -4.506, -4.464, -4.422, -4.38, -4.338, -4.296, -4.254, -4.212, -4.17, -4.128, -4.086, -4.044, -4.002, -3.96, -3.918, -3.8760000000000003, -3.8339999999999996, -3.792, -3.75, -3.708, -3.6660000000000004, -3.6239999999999997, -3.582, -3.54, -3.498, -3.4560000000000004, -3.4139999999999997, -3.372, -3.33, -3.2880000000000003, -3.2460000000000004, -3.2039999999999997, -3.162, -3.12, -3.0780000000000003, -3.0359999999999996, -2.9939999999999998, -2.952, -2.91, -2.8680000000000003, -2.8259999999999996, -2.784, -2.742, -2.7, -2.6580000000000004, -2.6159999999999997, -2.574, -2.532, -2.49, -2.4480000000000004, -2.4059999999999997, -2.364, -2.322, -2.2800000000000002, -2.2380000000000004, -2.1959999999999997, -2.154, -2.112, -2.0700000000000003, -2.0279999999999996, -1.9859999999999998, -1.944, -1.9020000000000001, -1.8600000000000003, -1.8179999999999996, -1.7759999999999998, -1.734, -1.6920000000000002, -1.6500000000000004, -1.6079999999999997, -1.5659999999999998, -1.524, -1.4820000000000002, -1.4400000000000004, -1.3979999999999997, -1.3559999999999999, -1.314, -1.2720000000000002, -1.2300000000000004, -1.1879999999999997, -1.146, -1.104, -1.0620000000000003, -1.0199999999999996, -0.9779999999999998, -0.9359999999999999, -0.8940000000000001, -0.8520000000000003, -0.8100000000000005, -0.7680000000000007, -0.7260000000000009, -0.6839999999999993, -0.6419999999999995, -0.5999999999999996, -0.5579999999999998, -0.516, -0.4740000000000002, -0.4320000000000004, -0.39000000000000057, -0.34800000000000075, -0.30599999999999916, -0.26399999999999935, -0.22199999999999953, -0.17999999999999972, -0.1379999999999999, -0.09600000000000009, -0.05400000000000027, -0.012000000000000455, 0.02999999999999936, 0.07199999999999918, 0.11400000000000077, 0.15600000000000058, 0.1980000000000004, 0.2400000000000002, 0.28200000000000003, 0.32399999999999984, 0.36599999999999966, 0.4079999999999995, 0.4499999999999993, 0.4920000000000009, 0.5340000000000007, 0.5760000000000005, 0.6180000000000003, 0.6600000000000001, 0.702, 0.7439999999999998, 0.7859999999999996, 0.8279999999999994, 0.8699999999999992, 0.9120000000000008, 0.9540000000000006, 0.9960000000000004, 1.0380000000000003, 1.08, 1.1219999999999999, 1.1639999999999997, 1.2059999999999995, 1.2479999999999993, 1.2899999999999991, 1.3320000000000007, 1.3740000000000006, 1.4160000000000004, 1.4580000000000002, 1.5, 1.5419999999999998, 1.5839999999999996, 1.6259999999999994, 1.6679999999999993, 1.7100000000000009, 1.7520000000000007, 1.7940000000000005, 1.8360000000000003, 1.8780000000000001, 1.92, 1.9619999999999997, 2.0039999999999996, 2.0459999999999994, 2.087999999999999, 2.130000000000001, 2.1720000000000006, 2.2140000000000004, 2.2560000000000002, 2.298, 2.34, 2.3819999999999997, 2.4239999999999995, 2.4659999999999993, 2.507999999999999, 2.5500000000000007, 2.5920000000000005, 2.6340000000000003, 2.676, 2.718, 2.76, 2.8019999999999996, 2.8439999999999994, 2.8859999999999992, 2.928000000000001, 2.9700000000000006, 3.0120000000000005, 3.0540000000000003, 3.096, 3.138, 3.1799999999999997, 3.2219999999999995, 3.2639999999999993, 3.305999999999999, 3.3480000000000008, 3.3900000000000006, 3.4320000000000004, 3.474, 3.516, 3.558, 3.5999999999999996, 3.6419999999999995, 3.6839999999999993, 3.726000000000001, 3.7680000000000007, 3.8100000000000005, 3.8520000000000003, 3.894, 3.936, 3.9779999999999998, 4.02, 4.061999999999999, 4.103999999999999, 4.146000000000001, 4.188000000000001, 4.23, 4.272, 4.314, 4.356, 4.398, 4.4399999999999995, 4.481999999999999, 4.523999999999999, 4.566000000000001, 4.6080000000000005, 4.65, 4.692, 4.734, 4.776, 4.818, 4.859999999999999, 4.901999999999999, 4.944000000000001, 4.986000000000001, 5.0280000000000005, 5.07, 5.112, 5.154, 5.196, 5.2379999999999995, 5.279999999999999, 5.321999999999999, 5.364000000000001, 5.406000000000001, 5.448, 5.49, 5.532, 5.574, 5.616, 5.6579999999999995, 5.699999999999999, 5.742000000000001, 5.784000000000001, 5.8260000000000005, 5.868, 5.91, 5.952, 5.994, 6.036, 6.077999999999999, 6.119999999999999, 6.162000000000001, 6.204000000000001, 6.246, 6.288, 6.33, 6.372, 6.414, 6.4559999999999995, 6.497999999999999, 6.539999999999999, 6.582000000000001, 6.6240000000000006, 6.666, 6.708, 6.75, 6.792, 6.834, 6.8759999999999994, 6.917999999999999, 6.960000000000001, 7.001999999999999, 7.0440000000000005, 7.0859999999999985, 7.128, 7.170000000000002, 7.212, 7.254000000000001, 7.295999999999999, 7.338000000000001, 7.379999999999999, 7.422000000000001, 7.463999999999999, 7.506, 7.547999999999998, 7.59, 7.6320000000000014, 7.6739999999999995, 7.716000000000001, 7.757999999999999, 7.800000000000001, 7.841999999999999, 7.884, 7.925999999999998, 7.968, 8.010000000000002, 8.052, 8.094000000000001, 8.136, 8.178, 8.219999999999999, 8.262, 8.303999999999998, 8.346, 8.388000000000002, 8.43, 8.472000000000001, 8.514, 8.556000000000001, 8.597999999999999, 8.64, 8.681999999999999, 8.724, 8.765999999999998, 8.808, 8.850000000000001, 8.892, 8.934000000000001, 8.975999999999999, 9.018, 9.059999999999999, 9.102, 9.143999999999998, 9.186, 9.228000000000002, 9.27, 9.312000000000001, 9.354, 9.396, 9.437999999999999, 9.48, 9.521999999999998, 9.564, 9.606000000000002, 9.648, 9.690000000000001, 9.732, 9.774000000000001, 9.815999999999999, 9.858, 9.899999999999999, 9.942, 9.984000000000002, 10.026, 10.068000000000001, 10.11, 10.152000000000001, 10.193999999999999, 10.236, 10.277999999999999, 10.32, 10.361999999999998, 10.404, 10.446000000000002, 10.488, 10.530000000000001, 10.572, 10.614, 10.655999999999999, 10.698, 10.739999999999998, 10.782, 10.824000000000002, 10.866, 10.908000000000001, 10.95, 10.992, 11.033999999999999, 11.076, 11.117999999999999, 11.16, 11.202000000000002, 11.244, 11.286000000000001, 11.328, 11.370000000000001, 11.411999999999999, 11.454, 11.495999999999999, 11.538, 11.579999999999998, 11.622, 11.664000000000001, 11.706, 11.748000000000001, 11.79, 11.832, 11.873999999999999, 11.916, 11.957999999999998], \"xaxis\": \"x\", \"y\": [0.0039248860107757915, 0.003919864980930092, 0.0039047631469333105, 0.0038796998928584806, 0.003844871437787058, 0.0038005484395586034, 0.0037470726818046203, 0.0036848529064491316, 0.0036143598688629488, 0.00353612070612095, 0.003450712720044376, 0.003358756685680033, 0.003260909802402157, 0.0031578584088112613, 0.0030503105840036975, 0.0029389887566170056, 0.002824622439403615, 0.0027079412010913356, 0.002589667979150018, 0.002470512827040576, 0.002351167177855834, 0.0022322986932807325, 0.002114546752830954, 0.001998518623712787, 0.0018847863367231635, 0.0017738842787091628, 0.001666307497548199, 0.0015625107016874204, 0.001462907923259342, 0.0013678728019033853, 0.0012777394358659967, 0.001192803737883382, 0.0011133252258894537, 0.001039529172817338, 0.0009716090357179657, 0.0009097290821116851, 0.0008540271308927772, 0.0008046173261688244, 0.0007615928650573456, 0.0007250286045806545, 0.0006949834782774733, 0.0006715026598539593, 0.0006546194189832595, 0.0006443566230791419, 0.0006407278483573208, 0.0006437380735951285, 0.000653383940540899, 0.0006696535757418408, 0.0006925259794854266, 0.0007219699984162081, 0.0007579429090295933, 0.0008003886494892942, 0.0008492357469001581, 0.0009043949961297344, 0.0009657569543507788, 0.0010331893225187952, 0.0011065342908576812, 0.001185605929966104, 0.0012701877122546857, 0.0013600302499730407, 0.0014548493359996886, 0.0015543243717839792, 0.0016580972633119361, 0.001765771860711564, 0.0018769140101457544, 0.0019910522780250783, 0.002107679397408671, 0.002226254474885231, 0.002346205983411802, 0.0024669355527429234, 0.0025878225544467013, 0.0027082294633446083, 0.0028275079618172755, 0.0029450057380948627, 0.0030600739147110512, 0.003172075029059742, 0.003280391474760016, 0.0033844343006003397, 0.0034836522534652707, 0.0035775409430845316, 0.003665651999883984, 0.003747602092816473, 0.0038230816719146965, 0.003891863300494676, 0.00395380944445078, 0.0040088795908741134, 0.004057136575197626, 0.004098752005080723, 0.004134010680109528, 0.004163313918888588, 0.004187181718992144, 0.0042062536902653025, 0.004221288717846619, 0.0042331633277500275, 0.004242868744630147, 0.004251506648208631, 0.004260283651528014, 0.0042705045405167, 0.004283564330114532, 0.004300939207272159, 0.004324176445378189, 0.004354883387989891, 0.004394715612074717, 0.004445364392256777, 0.004508543597762968, 0.004585976162842427, 0.004679380279353562, 0.004790455466932232, 0.004920868681617681, 0.005072240627947688, 0.0052461324422505805, 0.005444032916049656, 0.005667346428025889, 0.005917381750715961, 0.00619534189390187, 0.006502315140324181, 0.006839267420778863, 0.007207036164714465, 0.007606325749038936, 0.008037704651925204, 0.008501604399978066, 0.008998320376263495, 0.009528014533552459, 0.010090720031921355, 0.010686347792891623, 0.011314694933977488, 0.011975455018317902, 0.012668230024543788, 0.013392543912782105, 0.014147857634375536, 0.014933585406180163, 0.015749112045873096, 0.016593811143224717, 0.017467063824383046, 0.018368277852436613, 0.019296906798327355, 0.020252469011927707, 0.02123456612399831, 0.022242900815880668, 0.02327729360507921, 0.02433769841112153, 0.025424216686868156, 0.026537109925253988, 0.027676810379621348, 0.028843929866591355, 0.030039266552962407, 0.03126380966152445, 0.03251874206400303, 0.03380544076168453, 0.035125475284745744, 0.03648060406911843, 0.03787276889416309, 0.03930408748494077, 0.04077684439903421, 0.04229348032942497, 0.04385657996179509, 0.045468858526871235, 0.047133147186319314, 0.048852377384622184, 0.05062956428986766, 0.05246778943407372, 0.05437018264930602, 0.05633990338015966, 0.05838012143697453, 0.06049399723819458, 0.06268466157529348, 0.06495519492032752, 0.06730860628499795, 0.06974781163156588, 0.07227561183038314, 0.07489467015639671, 0.07760748931781868, 0.08041638801419394, 0.08332347702820166, 0.0863306348654456, 0.08943948296893546, 0.09265136054956857, 0.09596729909031577, 0.09938799659960854, 0.10291379170824695, 0.10654463772364138, 0.11028007677507531, 0.11411921420364483, 0.11806069337039082, 0.12210267107569778, 0.12624279380214337, 0.1304781750115128, 0.13480537374449705, 0.13922037478854152, 0.14371857069519156, 0.1482947459428719, 0.15294306355401915, 0.1576570544864733, 0.16242961012755502, 0.1672529782247607, 0.17211876258884554, 0.17701792690257812, 0.18194080296086831, 0.18687710365457863, 0.1918159409904005, 0.1967458494120388, 0.20165481465307158, 0.20653030830878485, 0.2113593282628376, 0.21612844504473172, 0.2208238541260332, 0.22543143408758623, 0.22993681050743817, 0.2343254253309117, 0.23858261139164103, 0.24269367165710648, 0.24664396267614222, 0.25041898161118087, 0.2540044561469059, 0.2573864364818256, 0.26055138853245113, 0.2634862874135571, 0.2661787102046012, 0.26861692697376505, 0.27078998900895007, 0.27268781320074764, 0.2743012615369052, 0.27562221470157555, 0.27664363882573967, 0.27735964450711387, 0.2777655373076442, 0.2778578590428438, 0.27763441929784155, 0.2770943167377049, 0.276237949921679, 0.2750670174794205, 0.2735845076589626, 0.2717946774076172, 0.2697030212950584, 0.26731623072911004, 0.2646421440462495, 0.2616896881776841, 0.2584688126955977, 0.25499041713073567, 0.251266272520351, 0.2473089381935259, 0.24313167482861467, 0.2387483548249281, 0.2341733710184928, 0.229421544740763, 0.22450803417118637, 0.21944824387145626, 0.21425773631346928, 0.20895214612702645, 0.2035470976999482, 0.19805812666532435, 0.19250060571096728, 0.18688967504745865, 0.18124017777608184, 0.17556660030861496, 0.1698830179094637, 0.16420304535843808, 0.15853979267083723, 0.15290582576109688, 0.1473131318973731, 0.14177308976694025, 0.1362964439556276, 0.1308932836378072, 0.12557302527545536, 0.1203443991341086, 0.11521543943844356, 0.11019347800904566, 0.10528514124285943, 0.1004963503211615, 0.09583232454898917, 0.09129758774737275, 0.08689597763321152, 0.08263065813021171, 0.07850413455731858, 0.07451827163810228, 0.07067431426557345, 0.06697291094210676, 0.06341413979407688, 0.0599975370362154, 0.0567221277325528, 0.05358645867026283, 0.05058863313101713, 0.04772634731290655, 0.044996928125893905, 0.04239737205639817, 0.03992438477314131, 0.03757442112782201, 0.03534372519138524, 0.03322836996023669, 0.03122429636714314, 0.029327351238919754, 0.027533323857270274, 0.02583798080002379, 0.024237098766986966, 0.022726495127009028, 0.021302055959779093, 0.01995976140635556, 0.018695708185404402, 0.01750612917647269, 0.016387410016230782, 0.01533610269738966, 0.014348936201915874, 0.013422824239307012, 0.012554870196258587, 0.011742369435402642, 0.010982809107445727, 0.01027386566266723, 0.00961340026421682, 0.00899945231700299, 0.008430231332379603, 0.007904107350642002, 0.007419600140992576, 0.006975367392675662, 0.006570192102036725, 0.006202969349000071, 0.005872692643565626, 0.00557844000907638, 0.005319359954841795, 0.0050946574768008885, 0.004903580211775688, 0.004745404858908488, 0.004619423971399772, 0.0045249332128566655, 0.004461219165499941, 0.004427547772122334, 0.004423153489897587, 0.004447229231667385, 0.00449891716885975, 0.0045773004693304645, 0.004681396042736414, 0.004810148365089402, 0.00496242445244241, 0.005137010050786257, 0.005332607104783125, 0.005547832561592848, 0.0057812185574914925, 0.006031214024065253, 0.006296187737409364, 0.006574432818005293, 0.006864172670932906, 0.00716356833605046, 0.007470727196102088, 0.007783712967842142, 0.008100556877734179, 0.008419269900190722, 0.008737855913317256, 0.009054325605386772, 0.009366710945478286, 0.009673080014526356, 0.009971551979066774, 0.010260311979782187, 0.010537625701020166, 0.01080185338614359, 0.011051463067128621, 0.011285042785368897, 0.011501311594160037, 0.011699129151667598, 0.01187750373602742, 0.01203559854115965, 0.012172736142340781, 0.01228840105390777, 0.012382240336907161, 0.01245406225122197, 0.012503832983832983, 0.012531671521499749, 0.012537842771383145, 0.012522749066108466, 0.012486920219672282, 0.012431002326694172, 0.012355745519169813, 0.012261990911580471, 0.012150656976571588, 0.012022725599192832, 0.01187922805780519, 0.011721231174273409, 0.011549823865188383, 0.01136610430996137, 0.011171167931187907, 0.010966096358296823, 0.01075194751787801, 0.010529746963995319, 0.010300480530063156, 0.010065088351348303, 0.00982446027470563, 0.00957943264059472, 0.00933078639254036, 0.009079246441701959, 0.008825482189736864, 0.008570109092199752, 0.008313691127723757, 0.008056744025463584, 0.007799739094899672, 0.007543107498136695, 0.007287244805177209, 0.007032515677103791, 0.006779258530333952, 0.0065277900467144824, 0.006278409408701637, 0.0060314021556870994, 0.005787043576087935, 0.0055456015695145985, 0.005307338933559054, 0.005072515049910353, 0.004841386964056545, 0.004614209871256916, 0.00439123703832702, 0.004172719205692942, 0.003958903526849606, 0.00375003211258804, 0.003546340255010848, 0.0033480544113945513, 0.00315539003041211, 0.0029685493032146114, 0.002787718919555786, 0.002613067904760493, 0.0024447456071577285, 0.002282879897928422, 0.00212757563648301, 0.0019789134448178793, 0.0018369488241391195, 0.0017017116367029307, 0.0015732059656081534, 0.0014514103554539746, 0.0013362784275829682, 0.0012277398552589438, 0.001125701676735983, 0.001030049917866271, 0.0009406514907382786, 0.000857356330856444, 0.0007799997325553605, 0.0007084048406379585, 0.0006423852555591489, 0.000581747709743454, 0.0005262947737055781, 0.0004758275524054924, 0.00043014833457393663, 0.0003890631604515326, 0.0003523842763583192, 0.00031993244762402176, 0.0002915391045490079, 0.00026704829913334226, 0.00024631845322796653, 0.00022922388146813066, 0.00021565607480721955, 0.00020552473266146498, 0.00019875853360638192, 0.00019530563625589072, 0.00019513390344413824, 0.00019823084417132142, 0.00020460326903290612, 0.0002142766560992068, 0.00022729422552632682, 0.000243715722637525, 0.0002636159108907764, 0.0002870827781111015, 0.0003142154616724095, 0.0003451219010066464, 0.00037991622892458344, 0.00041871591676068733, 0.0004616386922904115, 0.0005087992536770278, 0.0005603058073274258, 0.0006162564623920565, 0.0006767355196292756, 0.0007418096973468995, 0.0008115243419925616, 0.0008858996755354039, 0.00096492713590032, 0.001048565870211754, 0.0011367394433082153, 0.001229332825735159, 0.0013261897260613623, 0.0014271103317551343, 0.0015318495208907173, 0.0016401156035471519, 0.001751569646862373, 0.0018658254313024456, 0.0019824500778276126, 0.0021009653763575005, 0.002220849835371767, 0.002341541460792487, 0.002462441259680582, 0.0025829174509834425, 0.0027023103518670068, 0.002819937894355788, 0.0029351017134104573, 0.0030470937345266408, 0.0031552031767785593, 0.0032587238762827454, 0.0033569618256341126, 0.0034492428172508156, 0.0035349200730053825, 0.003613381739218281, 0.0036840581251987425, 0.0037464285651264266, 0.0038000277872070293, 0.0038444516806688963, 0.0038793623601938174, 0.0039044924386287274, 0.003919648432078346], \"yaxis\": \"y\"}, {\"legendgroup\": \"Average Home Team Point Differential per Referee\", \"marker\": {\"color\": \"blue\"}, \"mode\": \"lines\", \"name\": \"Average Home Team Point Differential per Referee\", \"showlegend\": false, \"type\": \"scatter\", \"x\": [-15.0, -14.912, -14.824, -14.736, -14.648, -14.56, -14.472, -14.384, -14.296, -14.208, -14.12, -14.032, -13.943999999999999, -13.856, -13.768, -13.68, -13.592, -13.504, -13.416, -13.328, -13.24, -13.152, -13.064, -12.975999999999999, -12.888, -12.8, -12.712, -12.624, -12.536, -12.448, -12.36, -12.272, -12.184000000000001, -12.096, -12.008, -11.92, -11.832, -11.744, -11.656, -11.568, -11.48, -11.392, -11.304, -11.216000000000001, -11.128, -11.04, -10.952, -10.864, -10.776, -10.687999999999999, -10.6, -10.512, -10.424, -10.336, -10.248000000000001, -10.16, -10.072, -9.984, -9.896, -9.808, -9.719999999999999, -9.632, -9.544, -9.456, -9.368, -9.280000000000001, -9.192, -9.104, -9.016, -8.928, -8.84, -8.751999999999999, -8.664, -8.576, -8.488, -8.4, -8.312000000000001, -8.224, -8.136, -8.048, -7.96, -7.872, -7.784, -7.696, -7.608, -7.52, -7.432, -7.344, -7.256, -7.168, -7.08, -6.992000000000001, -6.904, -6.816000000000001, -6.728, -6.640000000000001, -6.552, -6.464, -6.3759999999999994, -6.288, -6.199999999999999, -6.112, -6.023999999999999, -5.936, -5.848000000000001, -5.76, -5.672000000000001, -5.584, -5.496, -5.4079999999999995, -5.32, -5.231999999999999, -5.144, -5.055999999999999, -4.968, -4.880000000000001, -4.792, -4.704000000000001, -4.616, -4.5280000000000005, -4.4399999999999995, -4.352, -4.263999999999999, -4.176, -4.087999999999999, -4.0, -3.912000000000001, -3.824, -3.7360000000000007, -3.6479999999999997, -3.5600000000000005, -3.4719999999999995, -3.3840000000000003, -3.2959999999999994, -3.208, -3.119999999999999, -3.032, -2.944000000000001, -2.856, -2.7680000000000007, -2.6799999999999997, -2.5920000000000005, -2.5039999999999996, -2.4160000000000004, -2.3279999999999994, -2.24, -2.1519999999999992, -2.064, -1.9760000000000009, -1.888, -1.8000000000000007, -1.7119999999999997, -1.6240000000000006, -1.5359999999999996, -1.4480000000000004, -1.3599999999999994, -1.2720000000000002, -1.1839999999999993, -1.096, -1.0079999999999991, -0.9199999999999999, -0.8320000000000007, -0.7439999999999998, -0.6560000000000006, -0.5679999999999996, -0.4800000000000004, -0.39199999999999946, -0.30400000000000027, -0.2159999999999993, -0.1280000000000001, -0.03999999999999915, 0.04800000000000004, 0.13599999999999923, 0.2240000000000002, 0.3119999999999994, 0.40000000000000036, 0.48799999999999955, 0.5760000000000005, 0.6639999999999997, 0.7520000000000007, 0.8399999999999999, 0.9280000000000008, 1.0159999999999982, 1.1039999999999992, 1.1920000000000002, 1.2800000000000011, 1.3679999999999986, 1.4559999999999995, 1.5440000000000005, 1.6320000000000014, 1.7199999999999989, 1.8079999999999998, 1.8960000000000008, 1.9840000000000018, 2.071999999999999, 2.16, 2.248000000000001, 2.3359999999999985, 2.4239999999999995, 2.5120000000000005, 2.6000000000000014, 2.687999999999999, 2.776, 2.8640000000000008, 2.9520000000000017, 3.039999999999999, 3.128, 3.216000000000001, 3.3039999999999985, 3.3919999999999995, 3.4800000000000004, 3.5680000000000014, 3.655999999999999, 3.7439999999999998, 3.8320000000000007, 3.9200000000000017, 4.007999999999999, 4.096, 4.184000000000001, 4.2719999999999985, 4.359999999999999, 4.448, 4.536000000000001, 4.623999999999999, 4.712, 4.800000000000001, 4.888000000000002, 4.975999999999999, 5.064, 5.152000000000001, 5.239999999999998, 5.327999999999999, 5.416, 5.504000000000001, 5.591999999999999, 5.68, 5.768000000000001, 5.856000000000002, 5.943999999999999, 6.032, 6.120000000000001, 6.207999999999998, 6.295999999999999, 6.384, 6.472000000000001, 6.559999999999999, 6.648, 6.736000000000001, 6.824000000000002, 6.911999999999999, 7.0, 7.088000000000001, 7.175999999999998, 7.263999999999999, 7.352, 7.440000000000001, 7.527999999999999, 7.616, 7.704000000000001, 7.792000000000002, 7.879999999999999, 7.968, 8.056000000000001, 8.143999999999998, 8.232, 8.32, 8.408000000000001, 8.495999999999999, 8.584, 8.672, 8.760000000000002, 8.847999999999999, 8.936, 9.024000000000001, 9.111999999999998, 9.2, 9.288, 9.376000000000001, 9.463999999999999, 9.552, 9.64, 9.728000000000002, 9.815999999999999, 9.904, 9.992, 10.079999999999998, 10.168, 10.256, 10.344000000000001, 10.431999999999999, 10.52, 10.608, 10.696000000000002, 10.783999999999999, 10.872, 10.96, 11.047999999999998, 11.136, 11.224, 11.312000000000001, 11.399999999999999, 11.488, 11.576, 11.664000000000001, 11.751999999999999, 11.84, 11.928, 12.015999999999998, 12.104, 12.192, 12.280000000000001, 12.367999999999999, 12.456, 12.544, 12.632000000000001, 12.719999999999999, 12.808, 12.896, 12.984000000000002, 13.072, 13.16, 13.248000000000001, 13.335999999999999, 13.424, 13.512, 13.600000000000001, 13.687999999999999, 13.776, 13.864, 13.952000000000002, 14.04, 14.128, 14.216000000000001, 14.303999999999998, 14.392, 14.48, 14.568000000000001, 14.655999999999999, 14.744, 14.832, 14.920000000000002, 15.008, 15.096, 15.184000000000001, 15.271999999999998, 15.36, 15.448, 15.536000000000001, 15.623999999999999, 15.712, 15.8, 15.888000000000002, 15.975999999999999, 16.064, 16.152, 16.24, 16.328, 16.416, 16.504, 16.592, 16.68, 16.768, 16.856, 16.944, 17.031999999999996, 17.119999999999997, 17.208, 17.296, 17.384, 17.472, 17.560000000000002, 17.648000000000003, 17.735999999999997, 17.823999999999998, 17.912, 18.0, 18.088, 18.176000000000002, 18.264000000000003, 18.351999999999997, 18.439999999999998, 18.528, 18.616, 18.704, 18.792, 18.880000000000003, 18.968000000000004, 19.055999999999997, 19.144, 19.232, 19.32, 19.408, 19.496000000000002, 19.584000000000003, 19.671999999999997, 19.759999999999998, 19.848, 19.936, 20.024, 20.112000000000002, 20.200000000000003, 20.287999999999997, 20.375999999999998, 20.464, 20.552, 20.64, 20.728, 20.816000000000003, 20.904000000000003, 20.991999999999997, 21.08, 21.168, 21.256, 21.344, 21.432000000000002, 21.520000000000003, 21.607999999999997, 21.695999999999998, 21.784, 21.872, 21.96, 22.048000000000002, 22.136000000000003, 22.223999999999997, 22.311999999999998, 22.4, 22.488, 22.576, 22.664, 22.752000000000002, 22.840000000000003, 22.927999999999997, 23.016, 23.104, 23.192, 23.28, 23.368000000000002, 23.456000000000003, 23.543999999999997, 23.631999999999998, 23.72, 23.808, 23.896, 23.984, 24.072000000000003, 24.159999999999997, 24.247999999999998, 24.336, 24.424, 24.512, 24.6, 24.688000000000002, 24.776000000000003, 24.863999999999997, 24.951999999999998, 25.04, 25.128, 25.216, 25.304000000000002, 25.392000000000003, 25.479999999999997, 25.567999999999998, 25.656, 25.744, 25.832, 25.92, 26.008000000000003, 26.095999999999997, 26.183999999999997, 26.272, 26.36, 26.448, 26.536, 26.624000000000002, 26.712000000000003, 26.799999999999997, 26.887999999999998, 26.976, 27.064, 27.152, 27.240000000000002, 27.328000000000003, 27.415999999999997, 27.503999999999998, 27.592, 27.68, 27.768, 27.856, 27.944000000000003, 28.031999999999996, 28.119999999999997, 28.208, 28.296, 28.384, 28.472, 28.560000000000002, 28.648000000000003, 28.735999999999997, 28.823999999999998, 28.912], \"xaxis\": \"x\", \"y\": [0.0020478232856281126, 0.002080722682510639, 0.0021124506197385405, 0.002142987935693724, 0.0021723214022472946, 0.0022004437716717706, 0.0022273537955365503, 0.0022530562168983875, 0.0022775617371946027, 0.0023008869592943777, 0.002323054308163943, 0.0023440919305564947, 0.0023640335750510465, 0.0023829184536404706, 0.0024007910859137004, 0.002417701126697038, 0.0024337031778225264, 0.0024488565844856206, 0.002463225216448731, 0.002476877234150761, 0.0024898848396044592, 0.002502324011812356, 0.002514274226316505, 0.002525818158425151, 0.002537041369637564, 0.0025480319768224533, 0.0025588803038000124, 0.0025696785151358243, 0.0025805202321778757, 0.002591500131655599, 0.002602713527510089, 0.0026142559370335625, 0.0026262226328582832, 0.0026387081828431734, 0.002651805980451399, 0.002665607768784085, 0.0026802031620223685, 0.00269567916861977, 0.002712119721165908, 0.002729605218397108, 0.002748212085345279, 0.0027680123580796595, 0.0027890732998928974, 0.0028114570561006843, 0.002835220354850649, 0.002860414261461072, 0.00288708399382383, 0.0029152688063017215, 0.0029450019493224206, 0.002976310711516768, 0.0030092165507667676, 0.003043735319920013, 0.0030798775921960704, 0.0031176490904625052, 0.0031570512236022536, 0.003198081732140062, 0.0032407354441564722, 0.0032850051413069975, 0.0033308825334977935, 0.003378359339463656, 0.003427428469167685, 0.0034780853026124456, 0.0035303290583387466, 0.0035841642436084484, 0.0036396021770403173, 0.003696662573309892, 0.003755375178451877, 0.0038157814433317986, 0.0038779362219953893, 0.003941909480871312, 0.0040077880042044866, 0.004075677080641061, 0.0041457021555769405, 0.004218010433722871, 0.0042927724163309665, 0.004370183357669031, 0.0044504646256165875, 0.004533864951684776, 0.004620661556324636, 0.004711161136075817, 0.00480570069991125, 0.004904648243041895, 0.005008403247448096, 0.005117396999488703, 0.0052320927160938585, 0.005352985472260612, 0.0054806019238307045, 0.005615499820826096, 0.005758267307939788, 0.00590952201011801, 0.006069909902516139, 0.0062401039654577965, 0.006420802626367531, 0.006612727991977229, 0.00681662387542031, 0.007033253624121677, 0.007263397755663063, 0.007507851410049062, 0.007767421628017479, 0.00804292446622545, 0.008335181961298345, 0.008645018955848092, 0.008973259800648838, 0.009320724948195264, 0.009688227453858575, 0.010076569401789692, 0.010486538273592085, 0.010918903278588687, 0.011374411665228743, 0.011853785033810908, 0.012357715671225233, 0.012886862928827961, 0.013441849664843327, 0.014023258772825673, 0.014631629817695295, 0.015267455800673771, 0.015931180074072637, 0.016623193426325032, 0.0173438313568824, 0.018093371559619337, 0.018872031632197795, 0.01967996702742924, 0.020517269261048923, 0.02138396438847739, 0.022280011761106198, 0.02320530307041547, 0.024159661685831096, 0.02514284228967671, 0.026154530809898883, 0.027194344648469797, 0.02826183320053225, 0.029356478656487484, 0.030477697076367483, 0.03162483972303228, 0.03279719463801862, 0.033993988441294413, 0.035214388333779635, 0.03645750427932324, 0.037722391340919245, 0.039008052144342595, 0.0403134394411189, 0.04163745874184725, 0.042978970990397956, 0.0443367952494238, 0.04570971136797986, 0.047096462602838216, 0.04849575816632507, 0.049906275675183326, 0.051326663477066214, 0.05275554283377506, 0.0541915099432369, 0.055633137785446936, 0.05707897778112513, 0.05852756125562026, 0.05997740070457333, 0.06142699086197867, 0.06287480957548418, 0.06431931849799499, 0.06575896360881806, 0.06719217558163948, 0.06861737002050246, 0.07003294758857712, 0.07143729405783081, 0.07282878031065329, 0.07420576232701571, 0.07556658119279339, 0.07690956316642383, 0.07823301984206159, 0.07953524844780852, 0.08081453231742289, 0.08206914157313148, 0.08329733405578545, 0.08449735653662506, 0.0856674462423605, 0.08680583272216727, 0.08791074008156763, 0.0889803896040639, 0.0900130027768566, 0.09100680473207336, 0.09196002810971748, 0.0928709173430767, 0.09373773336169175, 0.09455875870123312, 0.09533230300385373, 0.09605670888684331, 0.09673035815178734, 0.09735167830099267, 0.09791914932276541, 0.09843131070226721, 0.09888676861020779, 0.09928420321760559, 0.09962237608131873, 0.09990013754205782, 0.10011643407418826, 0.10027031552483238, 0.10036094217862497, 0.10038759158397617, 0.10034966507685343, 0.1002466939389287, 0.1000783451284238, 0.09984442652412567, 0.09954489162581312, 0.09917984365770378, 0.0987495390254703, 0.09825439008184617, 0.09769496716079618, 0.09707199984562502, 0.09638637744217773, 0.09563914863439447, 0.09483152030586335, 0.09396485551760184, 0.09304067063902603, 0.09206063163588066, 0.09102654952572213, 0.08994037501832464, 0.08880419236503116, 0.08762021244755615, 0.08639076514298097, 0.0851182910076314, 0.08380533232810902, 0.08245452359293957, 0.08106858144302771, 0.07965029416334661, 0.07820251078198966, 0.07672812984584598, 0.07523008794469908, 0.0737113480574651, 0.07217488779557742, 0.07062368761916256, 0.0690607191016514, 0.0674889333178208, 0.06591124942897526, 0.06433054353708027, 0.06274963787715429, 0.061171290414158315, 0.05959818490701237, 0.05803292149826213, 0.056478007883352804, 0.05493585110849759, 0.05340875004079572, 0.051898888548624504, 0.05040832942444801, 0.048939009076122246, 0.04749273300658334, 0.04607117209554692, 0.04467585969058737, 0.043308189508755465, 0.041969414343804225, 0.04066064556816458, 0.03938285341311704, 0.038136868005175184, 0.03692338113159086, 0.03574294870314006, 0.034595993877998554, 0.03348281080658977, 0.032403568953816214, 0.03135831795208566, 0.030346992936030315, 0.02936942030780068, 0.02842532388029141, 0.027514331344634272, 0.026635981007748808, 0.02578972874567512, 0.02497495511879808, 0.024190972595890495, 0.02343703283512771, 0.022712333971825954, 0.02201602786460423, 0.021347227253925998, 0.020705012789510372, 0.020088439885873128, 0.01949654536823242, 0.01892835387415111, 0.01838288397955455, 0.01785915402112031, 0.01735618759045364, 0.016873018678904603, 0.016408696455318717, 0.015962289662416848, 0.015532890620842779, 0.01511961883317634, 0.014721624183364833, 0.014338089730057395, 0.013968234095219152, 0.01361131345214296, 0.013266623119552247, 0.012933498770893743, 0.012611317270144204, 0.012299497147497123, 0.011997498730151296, 0.01170482394509088, 0.01142101581222674, 0.011145657647562332, 0.010878371997157018, 0.01061881932358803, 0.010366696467363712, 0.010121734906318687, 0.009883698836432881, 0.00965238309776416, 0.009427610969275614, 0.009209231856278718, 0.00899711889400878, 0.008791166490505311, 0.008591287831493837, 0.008397412369363571, 0.00820948331761438, 0.00802745517131289, 0.007851291273158976, 0.007680961443727608, 0.007516439693324409, 0.007357702031684087, 0.007204724390457699, 0.007057480672085179, 0.006915940937242992, 0.00678006974160126, 0.006649824631130268, 0.006525154803671359, 0.0064059999429420195, 0.0062922892295885725, 0.0061839405323427035, 0.0060808597807892025, 0.00598294051972234, 0.005890063643566264, 0.005802097307871221, 0.005718897013481068, 0.0056403058576082014, 0.005566154944758634, 0.005496263949231139, 0.00543044181977846, 0.005368487615973399, 0.0053101914648756125, 0.005255335625752492, 0.005203695649876272, 0.005155041621804285, 0.005109139468055174, 0.005065752318724553, 0.005024641907341903, 0.0049855699941587775, 0.0049482997980774615, 0.004912597422579318, 0.004878233261292112, 0.0048449833692435175, 0.004812630786380667, 0.004780966800588457, 0.004749792138206982, 0.004718918070924157, 0.004688167428895444, 0.00465737551100964, 0.004626390884367842, 0.004595076066260801, 0.004563308083206053, 0.004530978902927254, 0.004497995736510743, 0.004464281209344064, 0.004429773400813414, 0.004394425754096699, 0.004358206858721166, 0.004321100109844401, 0.004283103249450124, 0.004244227795811755, 0.004204498368653603, 0.004163951918419319, 0.004122636868928695, 0.004080612183457019, 0.004037946364897403, 0.003994716401159273, 0.003951006667310197, 0.003906907796180741, 0.003862515529221757, 0.0038179295593314243, 0.0037732523771585704, 0.003728588132044229, 0.003684041518291974, 0.00363971669686823, 0.0035957162619369245, 0.0035521402608403832, 0.003509085275264126, 0.003466643570380997, 0.003424902317775744, 0.0033839428969201935, 0.0033438402789179407, 0.0033046624951820684, 0.0032664701926654782, 0.0032293162762465273, 0.00319324563789694, 0.003158294971337672, 0.003124492670033683, 0.003091858805600381, 0.003060405183001859, 0.003030135468320381, 0.003001045384372756, 0.0029731229690452424, 0.00294634889091477, 0.0029206968165198036, 0.0028961338235354863, 0.002872620854090214, 0.0028501132025276397, 0.0028285610320613304, 0.0028079099149796744, 0.002788101391325753, 0.0027690735412897144, 0.002750761566898388, 0.0027330983789565027, 0.0027160151855746073, 0.002699442078999091, 0.002683308617829253, 0.0026675444020551383, 0.002652079638669317, 0.0026368456958883587, 0.002621775644259588, 0.002606804783121022, 0.002591871151024631, 0.0025769160188235983, 0.002561884364163832, 0.0025467253261103346, 0.0025313926385838437, 0.002515845041187341, 0.0025000466658718088, 0.0024839673977333616, 0.0024675832080577787, 0.0024508764575425926, 0.0024338361674404825, 0.0024164582561905816, 0.0023987457389459317, 0.002380708887275195, 0.0023623653462236916, 0.0023437402058710524, 0.0023248660245276612, 0.0023057828007757904, 0.0022865378916887853, 0.0022671858747567897, 0.002247788351312124, 0.0022284136895825853, 0.002209136705905504, 0.0021900382831071086, 0.002171204925586636, 0.0021527282512373547, 0.0021347044209803832, 0.002117233507374092, 0.0021004188044826807, 0.00208436608193234, 0.00206918278684125, 0.002054977198069318, 0.00204185753798305, 0.0020299310476583404, 0.0020193030321373623, 0.0020100758830031845, 0.002002348086126164, 0.0019962132229584344, 0.00199175897419739, 0.0019890661349964813, 0.001988207651164272, 0.001989247685953572, 0.0019922407270962913, 0.0019972307436823254, 0.002004250402309807, 0.0020133203516484247, 0.002024448584157673, 0.0020376298831900827, 0.0020528453630891436, 0.0020700621091680384, 0.002089232923634885, 0.0021102961826209143, 0.0021331758084791423, 0.002157781360462745, 0.0021840082457762183, 0.0022117380518304345, 0.0022408389993382426, 0.002271166514673585, 0.00230256391869855, 0.0023348632280534203, 0.002367886063719051, 0.0024014446605130136, 0.0024353429700849, 0.002469377848945306, 0.0025033403221103733, 0.002537016912081097, 0.0025701910221151594, 0.002602644362098659, 0.002634158404794344, 0.0026645158598391275, 0.002693502152592606, 0.002720906894803891, 0.0027465253340691895, 0.0027701597691975905, 0.0027916209188868476, 0.0028107292315316997, 0.0028273161245399845, 0.002841225142210665, 0.0028523130220248546, 0.0028604506601071144, 0.0028655239676188314, 0.0028674346109368136, 0.0028661006296349816, 0.0028614569275117593, 0.0028534556331753797, 0.00284206632799894, 0.0028272761405709677, 0.0028090897080798377, 0.0027875290063661693], \"yaxis\": \"y\"}, {\"legendgroup\": \"Average Foul Differential per Referee\", \"marker\": {\"color\": \"red\", \"symbol\": \"line-ns-open\"}, \"mode\": \"markers\", \"name\": \"Average Foul Differential per Referee\", \"showlegend\": false, \"type\": \"scatter\", \"x\": [-0.4, 1.2, 0.6, 1.7, 0.8, 0.4, -0.1, -1.1, 2.0, 0.3, 1.0, 0.6, 0.7, 0.2, -0.1, 0.8, 0.3, -1.0, 1.5, 0.0, 0.1, 1.5, 0.7, -1.6, 1.3, -0.5, -1.0, -0.7, 0.8, 1.3, 1.1, 0.4, 1.0, -2.0, -0.6, 0.3, 1.0, -0.1, -0.8, 0.2, 0.4, -1.7, 0.5, 1.8, 0.1, 0.3, 0.7, 0.9, 0.6, 0.1, -0.5, 0.6, -0.3, 1.8, 1.7, 2.3, 1.9, 1.1, 0.4, -0.7, -0.4, 0.4, -0.6, 0.7, 0.3, 0.6, 0.3, 0.9, 0.0, 1.7, -0.6, 1.8, -0.4, -2.7, 0.5, 3.1, 1.9, 1.5, 2.0, 0.5, -1.3, 0.8, 0.2, 1.1, 0.7, 0.9, -0.9, -0.4, 1.4, 0.0, 1.0, 2.4, -2.8, 1.4, -1.8, -1.6, 0.9, -2.9, 0.9, -0.6, 0.8, -0.5, 0.2, 1.6, 0.0, -1.8, 3.3, -5.3, 6.0, 6.5, 7.5, -1.0, 12.0, -2.0, -3.0, 0.0, 0.0, 1.0, -1.0, 0.0, 6.0, 1.0, -9.0], \"xaxis\": \"x\", \"y\": [\"Average Foul Differential per Referee\", \"Average Foul Differential per Referee\", \"Average Foul Differential per Referee\", \"Average Foul Differential per Referee\", \"Average Foul Differential per Referee\", \"Average Foul Differential per Referee\", \"Average Foul Differential per Referee\", \"Average Foul Differential per Referee\", \"Average Foul Differential per Referee\", \"Average Foul Differential per Referee\", \"Average Foul Differential per Referee\", \"Average Foul Differential per Referee\", \"Average Foul Differential per Referee\", \"Average Foul Differential per Referee\", \"Average Foul Differential per Referee\", \"Average Foul Differential per Referee\", \"Average Foul Differential per Referee\", \"Average Foul Differential per Referee\", \"Average Foul Differential per Referee\", \"Average Foul Differential per Referee\", \"Average Foul Differential per Referee\", \"Average Foul Differential per Referee\", \"Average Foul Differential per Referee\", \"Average Foul Differential per Referee\", \"Average Foul Differential per Referee\", \"Average Foul Differential per Referee\", \"Average Foul Differential per Referee\", \"Average Foul Differential per Referee\", \"Average Foul Differential per Referee\", \"Average Foul Differential per Referee\", \"Average Foul Differential per Referee\", \"Average Foul Differential per Referee\", \"Average Foul Differential per Referee\", \"Average Foul Differential per Referee\", \"Average Foul Differential per Referee\", \"Average Foul Differential per Referee\", \"Average Foul Differential per Referee\", \"Average Foul Differential per Referee\", \"Average Foul Differential per Referee\", \"Average Foul Differential per Referee\", \"Average Foul Differential per Referee\", \"Average Foul Differential per Referee\", \"Average Foul Differential per Referee\", \"Average Foul Differential per Referee\", \"Average Foul Differential per Referee\", \"Average Foul Differential per Referee\", \"Average Foul Differential per Referee\", \"Average Foul Differential per Referee\", \"Average Foul Differential per Referee\", \"Average Foul Differential per Referee\", \"Average Foul Differential per Referee\", \"Average Foul Differential per Referee\", \"Average Foul Differential per Referee\", \"Average Foul Differential per Referee\", \"Average Foul Differential per Referee\", \"Average Foul Differential per Referee\", \"Average Foul Differential per Referee\", \"Average Foul Differential per Referee\", \"Average Foul Differential per Referee\", \"Average Foul Differential per Referee\", \"Average Foul Differential per Referee\", \"Average Foul Differential per Referee\", \"Average Foul Differential per Referee\", \"Average Foul Differential per Referee\", \"Average Foul Differential per Referee\", \"Average Foul Differential per Referee\", \"Average Foul Differential per Referee\", \"Average Foul Differential per Referee\", \"Average Foul Differential per Referee\", \"Average Foul Differential per Referee\", \"Average Foul Differential per Referee\", \"Average Foul Differential per Referee\", \"Average Foul Differential per Referee\", \"Average Foul Differential per Referee\", \"Average Foul Differential per Referee\", \"Average Foul Differential per Referee\", \"Average Foul Differential per Referee\", \"Average Foul Differential per Referee\", \"Average Foul Differential per Referee\", \"Average Foul Differential per Referee\", \"Average Foul Differential per Referee\", \"Average Foul Differential per Referee\", \"Average Foul Differential per Referee\", \"Average Foul Differential per Referee\", \"Average Foul Differential per Referee\", \"Average Foul Differential per Referee\", \"Average Foul Differential per Referee\", \"Average Foul Differential per Referee\", \"Average Foul Differential per Referee\", \"Average Foul Differential per Referee\", \"Average Foul Differential per Referee\", \"Average Foul Differential per Referee\", \"Average Foul Differential per Referee\", \"Average Foul Differential per Referee\", \"Average Foul Differential per Referee\", \"Average Foul Differential per Referee\", \"Average Foul Differential per Referee\", \"Average Foul Differential per Referee\", \"Average Foul Differential per Referee\", \"Average Foul Differential per Referee\", \"Average Foul Differential per Referee\", \"Average Foul Differential per Referee\", \"Average Foul Differential per Referee\", \"Average Foul Differential per Referee\", \"Average Foul Differential per Referee\", \"Average Foul Differential per Referee\", \"Average Foul Differential per Referee\", \"Average Foul Differential per Referee\", \"Average Foul Differential per Referee\", \"Average Foul Differential per Referee\", \"Average Foul Differential per Referee\", \"Average Foul Differential per Referee\", \"Average Foul Differential per Referee\", \"Average Foul Differential per Referee\", \"Average Foul Differential per Referee\", \"Average Foul Differential per Referee\", \"Average Foul Differential per Referee\", \"Average Foul Differential per Referee\", \"Average Foul Differential per Referee\", \"Average Foul Differential per Referee\", \"Average Foul Differential per Referee\", \"Average Foul Differential per Referee\", \"Average Foul Differential per Referee\"], \"yaxis\": \"y2\"}, {\"legendgroup\": \"Average Home Team Point Differential per Referee\", \"marker\": {\"color\": \"blue\", \"symbol\": \"line-ns-open\"}, \"mode\": \"markers\", \"name\": \"Average Home Team Point Differential per Referee\", \"showlegend\": false, \"type\": \"scatter\", \"x\": [3.604, 2.469, 2.367, 0.38, -0.979, 4.667, 3.766, 1.894, 3.596, 4.711, 0.979, 0.674, 3.556, 5.512, 4.136, 2.31, 3.721, 1.767, 2.857, 2.143, -1.048, 6.268, 3.15, 0.095, 4.35, 2.667, 3.333, -1.146, 0.639, 3.59, 0.514, 1.667, 3.486, -1.611, -1.364, 1.125, 2.943, 0.75, 1.75, 2.886, 4.759, -1.033, 4.455, 1.323, -0.138, 2.933, -0.533, 0.5, 2.533, 1.483, 1.286, 0.034, 2.571, 3.741, 3.148, -5.267, 2.654, 1.857, 2.64, 3.28, 7.68, -3.72, 1.591, 2.091, 4.154, -0.864, -0.19, 1.958, 4.286, 1.19, -0.263, 0.818, -3.167, -2.765, 7.5, 9.941, -1.353, -1.118, 5.111, 3.294, 0.615, 3.154, 3.154, 1.294, 5.125, 5.0, -1.846, 3.0, -1.545, 5.8, 4.125, 5.375, 5.125, 2.556, 0.167, 1.2, 11.125, 7.714, 1.5, 2.125, 9.375, 11.167, -1.6, -2.2, -1.25, 9.5, 5.0, 14.0, -15.0, 23.0, 16.5, 4.5, 5.0, 8.0, 16.0, -2.0, -8.0, -8.0, 29.0, -12.0, -1.0, 20.0, 28.0], \"xaxis\": \"x\", \"y\": [\"Average Home Team Point Differential per Referee\", \"Average Home Team Point Differential per Referee\", \"Average Home Team Point Differential per Referee\", \"Average Home Team Point Differential per Referee\", \"Average Home Team Point Differential per Referee\", \"Average Home Team Point Differential per Referee\", \"Average Home Team Point Differential per Referee\", \"Average Home Team Point Differential per Referee\", \"Average Home Team Point Differential per Referee\", \"Average Home Team Point Differential per Referee\", \"Average Home Team Point Differential per Referee\", \"Average Home Team Point Differential per Referee\", \"Average Home Team Point Differential per Referee\", \"Average Home Team Point Differential per Referee\", \"Average Home Team Point Differential per Referee\", \"Average Home Team Point Differential per Referee\", \"Average Home Team Point Differential per Referee\", \"Average Home Team Point Differential per Referee\", \"Average Home Team Point Differential per Referee\", \"Average Home Team Point Differential per Referee\", \"Average Home Team Point Differential per Referee\", \"Average Home Team Point Differential per Referee\", \"Average Home Team Point Differential per Referee\", \"Average Home Team Point Differential per Referee\", \"Average Home Team Point Differential per Referee\", \"Average Home Team Point Differential per Referee\", \"Average Home Team Point Differential per Referee\", \"Average Home Team Point Differential per Referee\", \"Average Home Team Point Differential per Referee\", \"Average Home Team Point Differential per Referee\", \"Average Home Team Point Differential per Referee\", \"Average Home Team Point Differential per Referee\", \"Average Home Team Point Differential per Referee\", \"Average Home Team Point Differential per Referee\", \"Average Home Team Point Differential per Referee\", \"Average Home Team Point Differential per Referee\", \"Average Home Team Point Differential per Referee\", \"Average Home Team Point Differential per Referee\", \"Average Home Team Point Differential per Referee\", \"Average Home Team Point Differential per Referee\", \"Average Home Team Point Differential per Referee\", \"Average Home Team Point Differential per Referee\", \"Average Home Team Point Differential per Referee\", \"Average Home Team Point Differential per Referee\", \"Average Home Team Point Differential per Referee\", \"Average Home Team Point Differential per Referee\", \"Average Home Team Point Differential per Referee\", \"Average Home Team Point Differential per Referee\", \"Average Home Team Point Differential per Referee\", \"Average Home Team Point Differential per Referee\", \"Average Home Team Point Differential per Referee\", \"Average Home Team Point Differential per Referee\", \"Average Home Team Point Differential per Referee\", \"Average Home Team Point Differential per Referee\", \"Average Home Team Point Differential per Referee\", \"Average Home Team Point Differential per Referee\", \"Average Home Team Point Differential per Referee\", \"Average Home Team Point Differential per Referee\", \"Average Home Team Point Differential per Referee\", \"Average Home Team Point Differential per Referee\", \"Average Home Team Point Differential per Referee\", \"Average Home Team Point Differential per Referee\", \"Average Home Team Point Differential per Referee\", \"Average Home Team Point Differential per Referee\", \"Average Home Team Point Differential per Referee\", \"Average Home Team Point Differential per Referee\", \"Average Home Team Point Differential per Referee\", \"Average Home Team Point Differential per Referee\", \"Average Home Team Point Differential per Referee\", \"Average Home Team Point Differential per Referee\", \"Average Home Team Point Differential per Referee\", \"Average Home Team Point Differential per Referee\", \"Average Home Team Point Differential per Referee\", \"Average Home Team Point Differential per Referee\", \"Average Home Team Point Differential per Referee\", \"Average Home Team Point Differential per Referee\", \"Average Home Team Point Differential per Referee\", \"Average Home Team Point Differential per Referee\", \"Average Home Team Point Differential per Referee\", \"Average Home Team Point Differential per Referee\", \"Average Home Team Point Differential per Referee\", \"Average Home Team Point Differential per Referee\", \"Average Home Team Point Differential per Referee\", \"Average Home Team Point Differential per Referee\", \"Average Home Team Point Differential per Referee\", \"Average Home Team Point Differential per Referee\", \"Average Home Team Point Differential per Referee\", \"Average Home Team Point Differential per Referee\", \"Average Home Team Point Differential per Referee\", \"Average Home Team Point Differential per Referee\", \"Average Home Team Point Differential per Referee\", \"Average Home Team Point Differential per Referee\", \"Average Home Team Point Differential per Referee\", \"Average Home Team Point Differential per Referee\", \"Average Home Team Point Differential per Referee\", \"Average Home Team Point Differential per Referee\", \"Average Home Team Point Differential per Referee\", \"Average Home Team Point Differential per Referee\", \"Average Home Team Point Differential per Referee\", \"Average Home Team Point Differential per Referee\", \"Average Home Team Point Differential per Referee\", \"Average Home Team Point Differential per Referee\", \"Average Home Team Point Differential per Referee\", \"Average Home Team Point Differential per Referee\", \"Average Home Team Point Differential per Referee\", \"Average Home Team Point Differential per Referee\", \"Average Home Team Point Differential per Referee\", \"Average Home Team Point Differential per Referee\", \"Average Home Team Point Differential per Referee\", \"Average Home Team Point Differential per Referee\", \"Average Home Team Point Differential per Referee\", \"Average Home Team Point Differential per Referee\", \"Average Home Team Point Differential per Referee\", \"Average Home Team Point Differential per Referee\", \"Average Home Team Point Differential per Referee\", \"Average Home Team Point Differential per Referee\", \"Average Home Team Point Differential per Referee\", \"Average Home Team Point Differential per Referee\", \"Average Home Team Point Differential per Referee\", \"Average Home Team Point Differential per Referee\", \"Average Home Team Point Differential per Referee\", \"Average Home Team Point Differential per Referee\", \"Average Home Team Point Differential per Referee\"], \"yaxis\": \"y2\"}],\n",
              "                        {\"barmode\": \"overlay\", \"font\": {\"color\": \"#0a0801\", \"family\": \"Courier New, monospace\", \"size\": 18}, \"hovermode\": \"closest\", \"legend\": {\"traceorder\": \"reversed\"}, \"plot_bgcolor\": \"#DCDCDC\", \"template\": {\"data\": {\"bar\": [{\"error_x\": {\"color\": \"#2a3f5f\"}, \"error_y\": {\"color\": \"#2a3f5f\"}, \"marker\": {\"line\": {\"color\": \"#E5ECF6\", \"width\": 0.5}}, \"type\": \"bar\"}], \"barpolar\": [{\"marker\": {\"line\": {\"color\": \"#E5ECF6\", \"width\": 0.5}}, \"type\": \"barpolar\"}], \"carpet\": [{\"aaxis\": {\"endlinecolor\": \"#2a3f5f\", \"gridcolor\": \"white\", \"linecolor\": \"white\", \"minorgridcolor\": \"white\", \"startlinecolor\": \"#2a3f5f\"}, \"baxis\": {\"endlinecolor\": \"#2a3f5f\", \"gridcolor\": \"white\", \"linecolor\": \"white\", \"minorgridcolor\": \"white\", \"startlinecolor\": \"#2a3f5f\"}, \"type\": \"carpet\"}], \"choropleth\": [{\"colorbar\": {\"outlinewidth\": 0, \"ticks\": \"\"}, \"type\": \"choropleth\"}], \"contour\": [{\"colorbar\": {\"outlinewidth\": 0, \"ticks\": \"\"}, \"colorscale\": [[0.0, \"#0d0887\"], [0.1111111111111111, \"#46039f\"], [0.2222222222222222, \"#7201a8\"], [0.3333333333333333, \"#9c179e\"], [0.4444444444444444, \"#bd3786\"], [0.5555555555555556, \"#d8576b\"], [0.6666666666666666, \"#ed7953\"], [0.7777777777777778, \"#fb9f3a\"], [0.8888888888888888, \"#fdca26\"], [1.0, \"#f0f921\"]], \"type\": \"contour\"}], \"contourcarpet\": [{\"colorbar\": {\"outlinewidth\": 0, \"ticks\": \"\"}, \"type\": \"contourcarpet\"}], \"heatmap\": [{\"colorbar\": {\"outlinewidth\": 0, \"ticks\": \"\"}, \"colorscale\": [[0.0, \"#0d0887\"], [0.1111111111111111, \"#46039f\"], [0.2222222222222222, \"#7201a8\"], [0.3333333333333333, \"#9c179e\"], [0.4444444444444444, \"#bd3786\"], [0.5555555555555556, \"#d8576b\"], [0.6666666666666666, \"#ed7953\"], [0.7777777777777778, \"#fb9f3a\"], [0.8888888888888888, \"#fdca26\"], [1.0, \"#f0f921\"]], \"type\": \"heatmap\"}], \"heatmapgl\": [{\"colorbar\": {\"outlinewidth\": 0, \"ticks\": \"\"}, \"colorscale\": [[0.0, \"#0d0887\"], [0.1111111111111111, \"#46039f\"], [0.2222222222222222, \"#7201a8\"], [0.3333333333333333, \"#9c179e\"], [0.4444444444444444, \"#bd3786\"], [0.5555555555555556, \"#d8576b\"], [0.6666666666666666, \"#ed7953\"], [0.7777777777777778, \"#fb9f3a\"], [0.8888888888888888, \"#fdca26\"], [1.0, \"#f0f921\"]], \"type\": \"heatmapgl\"}], \"histogram\": [{\"marker\": {\"colorbar\": {\"outlinewidth\": 0, \"ticks\": \"\"}}, \"type\": \"histogram\"}], \"histogram2d\": [{\"colorbar\": {\"outlinewidth\": 0, \"ticks\": \"\"}, \"colorscale\": [[0.0, \"#0d0887\"], [0.1111111111111111, \"#46039f\"], [0.2222222222222222, \"#7201a8\"], [0.3333333333333333, \"#9c179e\"], [0.4444444444444444, \"#bd3786\"], [0.5555555555555556, \"#d8576b\"], [0.6666666666666666, \"#ed7953\"], [0.7777777777777778, \"#fb9f3a\"], [0.8888888888888888, \"#fdca26\"], [1.0, \"#f0f921\"]], \"type\": \"histogram2d\"}], \"histogram2dcontour\": [{\"colorbar\": {\"outlinewidth\": 0, \"ticks\": \"\"}, \"colorscale\": [[0.0, \"#0d0887\"], [0.1111111111111111, \"#46039f\"], [0.2222222222222222, \"#7201a8\"], [0.3333333333333333, \"#9c179e\"], [0.4444444444444444, \"#bd3786\"], [0.5555555555555556, \"#d8576b\"], [0.6666666666666666, \"#ed7953\"], [0.7777777777777778, \"#fb9f3a\"], [0.8888888888888888, \"#fdca26\"], [1.0, \"#f0f921\"]], \"type\": \"histogram2dcontour\"}], \"mesh3d\": [{\"colorbar\": {\"outlinewidth\": 0, \"ticks\": \"\"}, \"type\": \"mesh3d\"}], \"parcoords\": [{\"line\": {\"colorbar\": {\"outlinewidth\": 0, \"ticks\": \"\"}}, \"type\": \"parcoords\"}], \"pie\": [{\"automargin\": true, \"type\": \"pie\"}], \"scatter\": [{\"marker\": {\"colorbar\": {\"outlinewidth\": 0, \"ticks\": \"\"}}, \"type\": \"scatter\"}], \"scatter3d\": [{\"line\": {\"colorbar\": {\"outlinewidth\": 0, \"ticks\": \"\"}}, \"marker\": {\"colorbar\": {\"outlinewidth\": 0, \"ticks\": \"\"}}, \"type\": \"scatter3d\"}], \"scattercarpet\": [{\"marker\": {\"colorbar\": {\"outlinewidth\": 0, \"ticks\": \"\"}}, \"type\": \"scattercarpet\"}], \"scattergeo\": [{\"marker\": {\"colorbar\": {\"outlinewidth\": 0, \"ticks\": \"\"}}, \"type\": \"scattergeo\"}], \"scattergl\": [{\"marker\": {\"colorbar\": {\"outlinewidth\": 0, \"ticks\": \"\"}}, \"type\": \"scattergl\"}], \"scattermapbox\": [{\"marker\": {\"colorbar\": {\"outlinewidth\": 0, \"ticks\": \"\"}}, \"type\": \"scattermapbox\"}], \"scatterpolar\": [{\"marker\": {\"colorbar\": {\"outlinewidth\": 0, \"ticks\": \"\"}}, \"type\": \"scatterpolar\"}], \"scatterpolargl\": [{\"marker\": {\"colorbar\": {\"outlinewidth\": 0, \"ticks\": \"\"}}, \"type\": \"scatterpolargl\"}], \"scatterternary\": [{\"marker\": {\"colorbar\": {\"outlinewidth\": 0, \"ticks\": \"\"}}, \"type\": \"scatterternary\"}], \"surface\": [{\"colorbar\": {\"outlinewidth\": 0, \"ticks\": \"\"}, \"colorscale\": [[0.0, \"#0d0887\"], [0.1111111111111111, \"#46039f\"], [0.2222222222222222, \"#7201a8\"], [0.3333333333333333, \"#9c179e\"], [0.4444444444444444, \"#bd3786\"], [0.5555555555555556, \"#d8576b\"], [0.6666666666666666, \"#ed7953\"], [0.7777777777777778, \"#fb9f3a\"], [0.8888888888888888, \"#fdca26\"], [1.0, \"#f0f921\"]], \"type\": \"surface\"}], \"table\": [{\"cells\": {\"fill\": {\"color\": \"#EBF0F8\"}, \"line\": {\"color\": \"white\"}}, \"header\": {\"fill\": {\"color\": \"#C8D4E3\"}, \"line\": {\"color\": \"white\"}}, \"type\": \"table\"}]}, \"layout\": {\"annotationdefaults\": {\"arrowcolor\": \"#2a3f5f\", \"arrowhead\": 0, \"arrowwidth\": 1}, \"coloraxis\": {\"colorbar\": {\"outlinewidth\": 0, \"ticks\": \"\"}}, \"colorscale\": {\"diverging\": [[0, \"#8e0152\"], [0.1, \"#c51b7d\"], [0.2, \"#de77ae\"], [0.3, \"#f1b6da\"], [0.4, \"#fde0ef\"], [0.5, \"#f7f7f7\"], [0.6, \"#e6f5d0\"], [0.7, \"#b8e186\"], [0.8, \"#7fbc41\"], [0.9, \"#4d9221\"], [1, \"#276419\"]], \"sequential\": [[0.0, \"#0d0887\"], [0.1111111111111111, \"#46039f\"], [0.2222222222222222, \"#7201a8\"], [0.3333333333333333, \"#9c179e\"], [0.4444444444444444, \"#bd3786\"], [0.5555555555555556, \"#d8576b\"], [0.6666666666666666, \"#ed7953\"], [0.7777777777777778, \"#fb9f3a\"], [0.8888888888888888, \"#fdca26\"], [1.0, \"#f0f921\"]], \"sequentialminus\": [[0.0, \"#0d0887\"], [0.1111111111111111, \"#46039f\"], [0.2222222222222222, \"#7201a8\"], [0.3333333333333333, \"#9c179e\"], [0.4444444444444444, \"#bd3786\"], [0.5555555555555556, \"#d8576b\"], [0.6666666666666666, \"#ed7953\"], [0.7777777777777778, \"#fb9f3a\"], [0.8888888888888888, \"#fdca26\"], [1.0, \"#f0f921\"]]}, \"colorway\": [\"#636efa\", \"#EF553B\", \"#00cc96\", \"#ab63fa\", \"#FFA15A\", \"#19d3f3\", \"#FF6692\", \"#B6E880\", \"#FF97FF\", \"#FECB52\"], \"font\": {\"color\": \"#2a3f5f\"}, \"geo\": {\"bgcolor\": \"white\", \"lakecolor\": \"white\", \"landcolor\": \"#E5ECF6\", \"showlakes\": true, \"showland\": true, \"subunitcolor\": \"white\"}, \"hoverlabel\": {\"align\": \"left\"}, \"hovermode\": \"closest\", \"mapbox\": {\"style\": \"light\"}, \"paper_bgcolor\": \"white\", \"plot_bgcolor\": \"#E5ECF6\", \"polar\": {\"angularaxis\": {\"gridcolor\": \"white\", \"linecolor\": \"white\", \"ticks\": \"\"}, \"bgcolor\": \"#E5ECF6\", \"radialaxis\": {\"gridcolor\": \"white\", \"linecolor\": \"white\", \"ticks\": \"\"}}, \"scene\": {\"xaxis\": {\"backgroundcolor\": \"#E5ECF6\", \"gridcolor\": \"white\", \"gridwidth\": 2, \"linecolor\": \"white\", \"showbackground\": true, \"ticks\": \"\", \"zerolinecolor\": \"white\"}, \"yaxis\": {\"backgroundcolor\": \"#E5ECF6\", \"gridcolor\": \"white\", \"gridwidth\": 2, \"linecolor\": \"white\", \"showbackground\": true, \"ticks\": \"\", \"zerolinecolor\": \"white\"}, \"zaxis\": {\"backgroundcolor\": \"#E5ECF6\", \"gridcolor\": \"white\", \"gridwidth\": 2, \"linecolor\": \"white\", \"showbackground\": true, \"ticks\": \"\", \"zerolinecolor\": \"white\"}}, \"shapedefaults\": {\"line\": {\"color\": \"#2a3f5f\"}}, \"ternary\": {\"aaxis\": {\"gridcolor\": \"white\", \"linecolor\": \"white\", \"ticks\": \"\"}, \"baxis\": {\"gridcolor\": \"white\", \"linecolor\": \"white\", \"ticks\": \"\"}, \"bgcolor\": \"#E5ECF6\", \"caxis\": {\"gridcolor\": \"white\", \"linecolor\": \"white\", \"ticks\": \"\"}}, \"title\": {\"x\": 0.05}, \"xaxis\": {\"automargin\": true, \"gridcolor\": \"white\", \"linecolor\": \"white\", \"ticks\": \"\", \"title\": {\"standoff\": 15}, \"zerolinecolor\": \"white\", \"zerolinewidth\": 2}, \"yaxis\": {\"automargin\": true, \"gridcolor\": \"white\", \"linecolor\": \"white\", \"ticks\": \"\", \"title\": {\"standoff\": 15}, \"zerolinecolor\": \"white\", \"zerolinewidth\": 2}}}, \"title\": {\"text\": \"Does Foul Differential Impact Margin of Victory?\"}, \"xaxis\": {\"anchor\": \"y2\", \"domain\": [0.0, 1.0], \"zeroline\": false}, \"yaxis\": {\"anchor\": \"free\", \"domain\": [0.35, 1], \"position\": 0.0}, \"yaxis2\": {\"anchor\": \"x\", \"domain\": [0, 0.25], \"dtick\": 1, \"showticklabels\": false}},\n",
              "                        {\"responsive\": true}\n",
              "                    ).then(function(){\n",
              "                            \n",
              "var gd = document.getElementById('36b0349c-87bf-4823-b570-b62b8a8c522c');\n",
              "var x = new MutationObserver(function (mutations, observer) {{\n",
              "        var display = window.getComputedStyle(gd).display;\n",
              "        if (!display || display === 'none') {{\n",
              "            console.log([gd, 'removed!']);\n",
              "            Plotly.purge(gd);\n",
              "            observer.disconnect();\n",
              "        }}\n",
              "}});\n",
              "\n",
              "// Listen for the removal of the full notebook cells\n",
              "var notebookContainer = gd.closest('#notebook-container');\n",
              "if (notebookContainer) {{\n",
              "    x.observe(notebookContainer, {childList: true});\n",
              "}}\n",
              "\n",
              "// Listen for the clearing of the current output cell\n",
              "var outputEl = gd.closest('.output');\n",
              "if (outputEl) {{\n",
              "    x.observe(outputEl, {childList: true});\n",
              "}}\n",
              "\n",
              "                        })\n",
              "                };\n",
              "                \n",
              "            </script>\n",
              "        </div>\n",
              "</body>\n",
              "</html>"
            ]
          },
          "metadata": {
            "tags": []
          }
        }
      ]
    },
    {
      "cell_type": "code",
      "metadata": {
        "id": "2AfgmcNvfwT3",
        "colab_type": "code",
        "colab": {}
      },
      "source": [
        ""
      ],
      "execution_count": null,
      "outputs": []
    }
  ]
}